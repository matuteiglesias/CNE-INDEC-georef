{
 "cells": [
  {
   "attachments": {},
   "cell_type": "markdown",
   "metadata": {},
   "source": [
    "## Radios en Circuitos\n",
    "\n",
    "**En esta notebook se usan los archivos:**\n",
    "\n",
    "Radios censales 2010 por IGN\n",
    "\n",
    "- `radios = './radios_IGN_2010_WGS84/'`\n",
    "\n",
    "Circuitos compilados por Tartagalensis en base a CNE\n",
    "\n",
    "- `circuitos_ARG = './mapaelectoral/circuitos-CNE-TTGL.geojson'`\n",
    "\n",
    "Geometrías de Dptos y Provincias de IGN\n",
    "\n",
    "- `dptos_url = 'https://dnsg.ign.gob.ar/apps/api/v1/capas-sig/Geodesia+y+demarcación/Límites/departamento/json'`\n",
    "\n",
    "- `provs_url = 'https://dnsg.ign.gob.ar/apps/api/v1/capas-sig/Geodesia+y+demarcación/Límites/provincia/json'`\n",
    "\n",
    "\n",
    "**Y se generan los archivos:**\n",
    "\n",
    "Secciones según circuitos de Tartagalensis - CNE\n",
    "\n",
    "```python\n",
    "prov_dpto_IN1[['codprov', 'coddepto', 'IN1']].to_csv('./info/secciones_departamentos-TTGL.csv', index=False)\n",
    "\n",
    "ref_dptos[['in1prov', 'namprov', 'in1', 'nam', 'IN1', 'geometry']].to_file('./mapaelectoral/ref-dptosIGN.geojson', driver='GeoJSON')\n",
    "\n",
    "ref_dptos[['in1prov', 'namprov', 'in1', 'nam', 'IN1']].to_csv('./info/ref-dptosIGN.csv', index=False)\n"
   ]
  },
  {
   "cell_type": "code",
   "execution_count": 94,
   "metadata": {},
   "outputs": [],
   "source": [
    "import pandas as pd\n",
    "import geopandas as gpd\n",
    "\n",
    "import warnings\n",
    "warnings.filterwarnings('ignore')\n",
    "\n",
    "from shapely.validation import make_valid\n",
    "\n",
    "def fix_geom(in_feature):\n",
    "\n",
    "    # avoid changing original geodf\n",
    "    in_feature = in_feature.copy(deep=True)    \n",
    "        \n",
    "    # drop any missing geometries\n",
    "    in_feature = in_feature[~(in_feature.is_empty)]\n",
    "    \n",
    "    # Repair broken geometries\n",
    "    for index, row in in_feature.iterrows(): # Looping over all polygons\n",
    "        if row['geometry'].is_valid:\n",
    "            next\n",
    "        else:\n",
    "            fix = make_valid(row['geometry'])\n",
    "\n",
    "            try:\n",
    "                in_feature.loc[[index],'geometry'] =  fix # issue with Poly > Multipolygon\n",
    "            except ValueError:\n",
    "                in_feature.loc[[index],'geometry'] =  in_feature.loc[[index], 'geometry'].buffer(0)\n",
    "    return in_feature"
   ]
  },
  {
   "cell_type": "markdown",
   "metadata": {},
   "source": [
    "## Cargar geometrias"
   ]
  },
  {
   "cell_type": "code",
   "execution_count": 233,
   "metadata": {},
   "outputs": [],
   "source": [
    "## Para bajar estos poligonos consultar el repo geoespacial-censo-IGN\n",
    "# './IGN_shp/ign_departamento'\n",
    "\n",
    "IGN = gpd.read_file('./../geoespacial-censo-IGN/IGN_shp/ign_departamento')"
   ]
  },
  {
   "cell_type": "code",
   "execution_count": 132,
   "metadata": {},
   "outputs": [
    {
     "data": {
      "text/html": [
       "<div>\n",
       "<style scoped>\n",
       "    .dataframe tbody tr th:only-of-type {\n",
       "        vertical-align: middle;\n",
       "    }\n",
       "\n",
       "    .dataframe tbody tr th {\n",
       "        vertical-align: top;\n",
       "    }\n",
       "\n",
       "    .dataframe thead th {\n",
       "        text-align: right;\n",
       "    }\n",
       "</style>\n",
       "<table border=\"1\" class=\"dataframe\">\n",
       "  <thead>\n",
       "    <tr style=\"text-align: right;\">\n",
       "      <th></th>\n",
       "      <th>PROV_</th>\n",
       "      <th>DEPTO_</th>\n",
       "      <th>FRACC_</th>\n",
       "      <th>COD_2010</th>\n",
       "      <th>IN1</th>\n",
       "      <th>geometry</th>\n",
       "    </tr>\n",
       "  </thead>\n",
       "  <tbody>\n",
       "    <tr>\n",
       "      <th>0</th>\n",
       "      <td>02</td>\n",
       "      <td>013</td>\n",
       "      <td>03</td>\n",
       "      <td>020130302</td>\n",
       "      <td>0214091</td>\n",
       "      <td>POLYGON ((-58.46740 -34.53485, -58.46740 -34.5...</td>\n",
       "    </tr>\n",
       "    <tr>\n",
       "      <th>1</th>\n",
       "      <td>02</td>\n",
       "      <td>013</td>\n",
       "      <td>11</td>\n",
       "      <td>020131101</td>\n",
       "      <td>0214091</td>\n",
       "      <td>POLYGON ((-58.45868 -34.53715, -58.45868 -34.5...</td>\n",
       "    </tr>\n",
       "    <tr>\n",
       "      <th>2</th>\n",
       "      <td>02</td>\n",
       "      <td>013</td>\n",
       "      <td>01</td>\n",
       "      <td>020130104</td>\n",
       "      <td>0214091</td>\n",
       "      <td>POLYGON ((-58.46758 -34.53733, -58.46794 -34.5...</td>\n",
       "    </tr>\n",
       "    <tr>\n",
       "      <th>3</th>\n",
       "      <td>02</td>\n",
       "      <td>013</td>\n",
       "      <td>01</td>\n",
       "      <td>020130103</td>\n",
       "      <td>0214091</td>\n",
       "      <td>POLYGON ((-58.46846 -34.53531, -58.46846 -34.5...</td>\n",
       "    </tr>\n",
       "    <tr>\n",
       "      <th>4</th>\n",
       "      <td>02</td>\n",
       "      <td>013</td>\n",
       "      <td>01</td>\n",
       "      <td>020130102</td>\n",
       "      <td>0214091</td>\n",
       "      <td>POLYGON ((-58.47269 -34.53719, -58.47269 -34.5...</td>\n",
       "    </tr>\n",
       "  </tbody>\n",
       "</table>\n",
       "</div>"
      ],
      "text/plain": [
       "  PROV_ DEPTO_ FRACC_   COD_2010      IN1  \\\n",
       "0    02    013     03  020130302  0214091   \n",
       "1    02    013     11  020131101  0214091   \n",
       "2    02    013     01  020130104  0214091   \n",
       "3    02    013     01  020130103  0214091   \n",
       "4    02    013     01  020130102  0214091   \n",
       "\n",
       "                                            geometry  \n",
       "0  POLYGON ((-58.46740 -34.53485, -58.46740 -34.5...  \n",
       "1  POLYGON ((-58.45868 -34.53715, -58.45868 -34.5...  \n",
       "2  POLYGON ((-58.46758 -34.53733, -58.46794 -34.5...  \n",
       "3  POLYGON ((-58.46846 -34.53531, -58.46846 -34.5...  \n",
       "4  POLYGON ((-58.47269 -34.53719, -58.47269 -34.5...  "
      ]
     },
     "execution_count": 132,
     "metadata": {},
     "output_type": "execute_result"
    }
   ],
   "source": [
    "radios = gpd.read_file('./radios_IGN_2010_WGS84/')\n",
    "radios.head()\n"
   ]
  },
  {
   "cell_type": "code",
   "execution_count": 234,
   "metadata": {},
   "outputs": [],
   "source": [
    "# claves\n",
    "\n",
    "repo = './../geoespacial-censo-IGN'\n",
    "\n",
    "censo10_IGN_ref = gpd.read_file(repo+'/info/censo10_IGN_ref.geojson') "
   ]
  },
  {
   "cell_type": "code",
   "execution_count": 235,
   "metadata": {},
   "outputs": [
    {
     "data": {
      "text/html": [
       "<div>\n",
       "<style scoped>\n",
       "    .dataframe tbody tr th:only-of-type {\n",
       "        vertical-align: middle;\n",
       "    }\n",
       "\n",
       "    .dataframe tbody tr th {\n",
       "        vertical-align: top;\n",
       "    }\n",
       "\n",
       "    .dataframe thead th {\n",
       "        text-align: right;\n",
       "    }\n",
       "</style>\n",
       "<table border=\"1\" class=\"dataframe\">\n",
       "  <thead>\n",
       "    <tr style=\"text-align: right;\">\n",
       "      <th></th>\n",
       "      <th>PROV_</th>\n",
       "      <th>DEPTO_</th>\n",
       "      <th>IN1</th>\n",
       "      <th>NAM</th>\n",
       "      <th>area_km2</th>\n",
       "      <th>geometry</th>\n",
       "    </tr>\n",
       "  </thead>\n",
       "  <tbody>\n",
       "    <tr>\n",
       "      <th>0</th>\n",
       "      <td>02</td>\n",
       "      <td>001</td>\n",
       "      <td>02007</td>\n",
       "      <td>Comuna 1</td>\n",
       "      <td>0.001742</td>\n",
       "      <td>POLYGON Z ((-58.39154 -34.58087 0.00000, -58.3...</td>\n",
       "    </tr>\n",
       "    <tr>\n",
       "      <th>1</th>\n",
       "      <td>02</td>\n",
       "      <td>002</td>\n",
       "      <td>02014</td>\n",
       "      <td>Comuna 2</td>\n",
       "      <td>0.000615</td>\n",
       "      <td>POLYGON Z ((-58.40451 -34.59804 0.00000, -58.4...</td>\n",
       "    </tr>\n",
       "    <tr>\n",
       "      <th>2</th>\n",
       "      <td>02</td>\n",
       "      <td>003</td>\n",
       "      <td>02021</td>\n",
       "      <td>Comuna 3</td>\n",
       "      <td>0.000627</td>\n",
       "      <td>POLYGON Z ((-58.39991 -34.62857 0.00000, -58.3...</td>\n",
       "    </tr>\n",
       "    <tr>\n",
       "      <th>3</th>\n",
       "      <td>02</td>\n",
       "      <td>004</td>\n",
       "      <td>02028</td>\n",
       "      <td>Comuna 4</td>\n",
       "      <td>0.002131</td>\n",
       "      <td>MULTIPOLYGON Z (((-58.35579 -34.61814 0.00000,...</td>\n",
       "    </tr>\n",
       "    <tr>\n",
       "      <th>4</th>\n",
       "      <td>02</td>\n",
       "      <td>005</td>\n",
       "      <td>02035</td>\n",
       "      <td>Comuna 5</td>\n",
       "      <td>0.000654</td>\n",
       "      <td>POLYGON Z ((-58.42926 -34.61512 0.00000, -58.4...</td>\n",
       "    </tr>\n",
       "  </tbody>\n",
       "</table>\n",
       "</div>"
      ],
      "text/plain": [
       "  PROV_ DEPTO_    IN1       NAM  area_km2  \\\n",
       "0    02    001  02007  Comuna 1  0.001742   \n",
       "1    02    002  02014  Comuna 2  0.000615   \n",
       "2    02    003  02021  Comuna 3  0.000627   \n",
       "3    02    004  02028  Comuna 4  0.002131   \n",
       "4    02    005  02035  Comuna 5  0.000654   \n",
       "\n",
       "                                            geometry  \n",
       "0  POLYGON Z ((-58.39154 -34.58087 0.00000, -58.3...  \n",
       "1  POLYGON Z ((-58.40451 -34.59804 0.00000, -58.4...  \n",
       "2  POLYGON Z ((-58.39991 -34.62857 0.00000, -58.3...  \n",
       "3  MULTIPOLYGON Z (((-58.35579 -34.61814 0.00000,...  \n",
       "4  POLYGON Z ((-58.42926 -34.61512 0.00000, -58.4...  "
      ]
     },
     "execution_count": 235,
     "metadata": {},
     "output_type": "execute_result"
    }
   ],
   "source": [
    "censo10_IGN_ref.head()"
   ]
  },
  {
   "cell_type": "code",
   "execution_count": 152,
   "metadata": {},
   "outputs": [
    {
     "data": {
      "text/html": [
       "<div>\n",
       "<style scoped>\n",
       "    .dataframe tbody tr th:only-of-type {\n",
       "        vertical-align: middle;\n",
       "    }\n",
       "\n",
       "    .dataframe tbody tr th {\n",
       "        vertical-align: top;\n",
       "    }\n",
       "\n",
       "    .dataframe thead th {\n",
       "        text-align: right;\n",
       "    }\n",
       "</style>\n",
       "<table border=\"1\" class=\"dataframe\">\n",
       "  <thead>\n",
       "    <tr style=\"text-align: right;\">\n",
       "      <th></th>\n",
       "      <th>circuito</th>\n",
       "      <th>codprov</th>\n",
       "      <th>coddepto</th>\n",
       "      <th>seccion</th>\n",
       "      <th>geometry</th>\n",
       "    </tr>\n",
       "  </thead>\n",
       "  <tbody>\n",
       "    <tr>\n",
       "      <th>0</th>\n",
       "      <td>00001</td>\n",
       "      <td>01</td>\n",
       "      <td>001</td>\n",
       "      <td>NaN</td>\n",
       "      <td>MULTIPOLYGON (((-58.36620 -34.62040, -58.36610...</td>\n",
       "    </tr>\n",
       "    <tr>\n",
       "      <th>1</th>\n",
       "      <td>00002</td>\n",
       "      <td>01</td>\n",
       "      <td>001</td>\n",
       "      <td>NaN</td>\n",
       "      <td>MULTIPOLYGON (((-58.37740 -34.61740, -58.37740...</td>\n",
       "    </tr>\n",
       "    <tr>\n",
       "      <th>2</th>\n",
       "      <td>00003</td>\n",
       "      <td>01</td>\n",
       "      <td>001</td>\n",
       "      <td>NaN</td>\n",
       "      <td>GEOMETRYCOLLECTION (POLYGON ((-58.35720 -34.59...</td>\n",
       "    </tr>\n",
       "    <tr>\n",
       "      <th>3</th>\n",
       "      <td>00004</td>\n",
       "      <td>01</td>\n",
       "      <td>001</td>\n",
       "      <td>NaN</td>\n",
       "      <td>POLYGON ((-58.36760 -34.60760, -58.36770 -34.6...</td>\n",
       "    </tr>\n",
       "    <tr>\n",
       "      <th>4</th>\n",
       "      <td>00005</td>\n",
       "      <td>01</td>\n",
       "      <td>001</td>\n",
       "      <td>NaN</td>\n",
       "      <td>GEOMETRYCOLLECTION (MULTIPOLYGON (((-58.36080 ...</td>\n",
       "    </tr>\n",
       "  </tbody>\n",
       "</table>\n",
       "</div>"
      ],
      "text/plain": [
       "  circuito codprov coddepto  seccion  \\\n",
       "0    00001      01      001      NaN   \n",
       "1    00002      01      001      NaN   \n",
       "2    00003      01      001      NaN   \n",
       "3    00004      01      001      NaN   \n",
       "4    00005      01      001      NaN   \n",
       "\n",
       "                                            geometry  \n",
       "0  MULTIPOLYGON (((-58.36620 -34.62040, -58.36610...  \n",
       "1  MULTIPOLYGON (((-58.37740 -34.61740, -58.37740...  \n",
       "2  GEOMETRYCOLLECTION (POLYGON ((-58.35720 -34.59...  \n",
       "3  POLYGON ((-58.36760 -34.60760, -58.36770 -34.6...  \n",
       "4  GEOMETRYCOLLECTION (MULTIPOLYGON (((-58.36080 ...  "
      ]
     },
     "execution_count": 152,
     "metadata": {},
     "output_type": "execute_result"
    }
   ],
   "source": [
    "# circuitos_ARG = gpd.read_file('./mapaelectoral/circuitos-CNE.geojson')\n",
    "circuitos_ARG = gpd.read_file('./mapaelectoral/circuitos-CNE-TTGL.geojson')\n",
    "circuitos_ARG = fix_geom(circuitos_ARG.dropna(subset = 'geometry'))\n",
    "circuitos_ARG.head()"
   ]
  },
  {
   "cell_type": "markdown",
   "metadata": {},
   "source": [
    "## Departamentos API Georef\n",
    "\n",
    "https://datos.gob.ar/ar/dataset/ign-unidades-territoriales/archivo/ign_01.03.02"
   ]
  },
  {
   "cell_type": "code",
   "execution_count": null,
   "metadata": {},
   "outputs": [],
   "source": []
  },
  {
   "cell_type": "code",
   "execution_count": 144,
   "metadata": {},
   "outputs": [
    {
     "name": "stdout",
     "output_type": "stream",
     "text": [
      "     OBJECTID  Entidad        Objeto                                   FNA  \\\n",
      "0        4388        0  Departamento  Departamento Islas del Atlántico Sur   \n",
      "1        4389        0  Departamento                Departamento Concordia   \n",
      "2        4390        0  Departamento                  Departamento Federal   \n",
      "3        4391        0  Departamento             Departamento Gualeguaychú   \n",
      "4        4392        0  Departamento         Departamento Islas del Ibicuy   \n",
      "..        ...      ...           ...                                   ...   \n",
      "524      4913        0  Departamento             Departamento Valle Fértil   \n",
      "525      4914        0  Departamento                   Partido de La Plata   \n",
      "526      4915        0  Departamento                 Departamento Mercedes   \n",
      "527      4916        0  Departamento            Departamento Santa Bárbara   \n",
      "528      4531        0  Departamento                     Departamento Orán   \n",
      "\n",
      "              GNA                      NAM  \\\n",
      "0    Departamento  Islas del Atlántico Sur   \n",
      "1    Departamento                Concordia   \n",
      "2    Departamento                  Federal   \n",
      "3    Departamento             Gualeguaychú   \n",
      "4    Departamento         Islas del Ibicuy   \n",
      "..            ...                      ...   \n",
      "524  Departamento             Valle Fértil   \n",
      "525       Partido                 La Plata   \n",
      "526  Departamento                 Mercedes   \n",
      "527  Departamento            Santa Bárbara   \n",
      "528  Departamento                     Orán   \n",
      "\n",
      "                                          SAG  \\\n",
      "0                                         IGN   \n",
      "1                   ATER - Direc. de Catastro   \n",
      "2                   ATER - Direc. de Catastro   \n",
      "3                   ATER - Direc. de Catastro   \n",
      "4                   ATER - Direc. de Catastro   \n",
      "..                                        ...   \n",
      "524                        Direc. de Catastro   \n",
      "525  ARBA - Gerencia de Servicios Catastrales   \n",
      "526                                       IGN   \n",
      "527                  Direc. Grl. de Inmuebles   \n",
      "528                                 IDE Salta   \n",
      "\n",
      "                                          FDC    IN1  SHAPE_STAr  SHAPE_STLe  \\\n",
      "0                                         NaN  94021    2.200323  113.414744   \n",
      "1                                         NaN  30015    0.310471    4.031163   \n",
      "2                                         NaN  30035    0.492214    5.517325   \n",
      "3                                         NaN  30056    0.726821    5.318422   \n",
      "4                                         NaN  30063    0.479076    4.213641   \n",
      "..                                        ...    ...         ...         ...   \n",
      "524                                       NaN  70119    0.496597    5.441292   \n",
      "525  ARBA - Gerencia de Servicios Catastrales  60441    0.088158    1.729376   \n",
      "526                                        -2  18105    0.000003    0.008689   \n",
      "527                                       NaN  38070    0.389707    3.463318   \n",
      "528                                       NaN  66126    1.029165    7.864200   \n",
      "\n",
      "                                              geometry  \n",
      "0    MULTIPOLYGON Z (((-58.96740 -51.23382 0.00000,...  \n",
      "1    POLYGON Z ((-58.38761 -30.82889 0.00000, -58.3...  \n",
      "2    POLYGON Z ((-58.96265 -30.60344 0.00000, -58.9...  \n",
      "3    POLYGON Z ((-59.06579 -32.48615 0.00000, -59.0...  \n",
      "4    POLYGON Z ((-58.43841 -33.51761 0.00000, -58.4...  \n",
      "..                                                 ...  \n",
      "524  POLYGON Z ((-68.25094 -29.78192 0.00000, -68.2...  \n",
      "525  MULTIPOLYGON Z (((-57.99666 -34.87535 0.00000,...  \n",
      "526  POLYGON Z ((-57.68241 -29.72008 0.00000, -57.6...  \n",
      "527  POLYGON Z ((-64.15788 -23.63338 0.00000, -64.1...  \n",
      "528  POLYGON Z ((-64.47521 -22.48933 0.00000, -64.4...  \n",
      "\n",
      "[529 rows x 12 columns]\n"
     ]
    }
   ],
   "source": []
  },
  {
   "cell_type": "code",
   "execution_count": 154,
   "metadata": {},
   "outputs": [],
   "source": [
    "import geopandas as gpd\n",
    "import pandas as pd\n",
    "\n",
    "def curated_overlay(lower, higher, low_index, high_index):\n",
    "    # Perform overlay to intersect radios with higher-level polygons\n",
    "    overlay = gpd.overlay(lower, higher, how='intersection')\n",
    "    \n",
    "    result_prov = []  # List to store the results for each higher-level unit\n",
    "    \n",
    "    if not overlay.empty:  # If there is an intersection\n",
    "        # Calculate the area of the intersected polygons\n",
    "        overlay['area'] = overlay.area\n",
    "\n",
    "        # # Select the radio with the largest intersection area for each higher-level unit\n",
    "        # radios_in_circu = ref_dptos.groupby(['PROV_', 'DEPTO_', 'FRACC_', 'COD_2010']).apply(\n",
    "        #     lambda x: x.nlargest(1, 'area')\n",
    "        # ).reset_index(drop=True)[['codprov', 'coddepto', 'PROV_', 'DEPTO_', 'FRACC_', 'COD_2010', 'IN1', 'circuito']]\n",
    "\n",
    "        # Select the radio with the largest intersection area for each higher-level unit\n",
    "        lower_in_higher = overlay.groupby(low_index).apply(\n",
    "            lambda x: x.nlargest(1, 'area')\n",
    "        ).reset_index(drop=True)[low_index + high_index]#[['codprov', 'coddepto', 'seccion', 'IN1', 'NAM', 'circuito', 'COD_2010']]\n",
    "\n",
    "                # radios_in_circu = ref_dptos.groupby(['PROV_', 'DEPTO_', 'FRACC_', 'COD_'+year]\n",
    "                #                         ).apply(lambda x: x.nlargest(1, 'area')).reset_index(drop = True\n",
    "                #     )[['codprov', 'coddepto', 'PROV_', 'DEPTO_', 'FRACC_', 'COD_'+year, 'IN1', 'circuito']]\n",
    "        \n",
    "\n",
    "\n",
    "        # result_prov.append(radios_in_circu)\n",
    "        result_prov.append(lower_in_higher)\n",
    "    else:\n",
    "        print('No intersection with any higher-level unit.')\n",
    "\n",
    "    return result_prov\n",
    "\n"
   ]
  },
  {
   "cell_type": "code",
   "execution_count": 185,
   "metadata": {},
   "outputs": [
    {
     "name": "stdout",
     "output_type": "stream",
     "text": [
      "[     codprov coddepto circuito    IN1         NAM\n",
      "0         01      001    00001  02007    Comuna 1\n",
      "1         01      001    00002  02007    Comuna 1\n",
      "2         01      001    00003  02007    Comuna 1\n",
      "3         01      001    00004  02007    Comuna 1\n",
      "4         01      001    00005  02007    Comuna 1\n",
      "...      ...      ...      ...    ...         ...\n",
      "5498      24       02     0014  94007  Río Grande\n",
      "5499      24       02     0016  94007  Río Grande\n",
      "5500      24       02     0021  94011     Tolhuin\n",
      "5501      24       02     0210  94007  Río Grande\n",
      "5502      24       02     0221  94007  Río Grande\n",
      "\n",
      "[5503 rows x 5 columns]]\n"
     ]
    }
   ],
   "source": [
    "\n",
    "lower = circuitos_ARG[['circuito', 'codprov', 'coddepto', 'geometry']]\n",
    "higher = IGN[['IN1', 'NAM', 'geometry']]\n",
    "\n",
    "result = curated_overlay(lower, higher, low_index = ['codprov', 'coddepto', 'circuito'], high_index = ['IN1', 'NAM'])\n",
    "print(result)\n"
   ]
  },
  {
   "cell_type": "code",
   "execution_count": null,
   "metadata": {},
   "outputs": [],
   "source": [
    "\n",
    "lower = circuitos_ARG[['circuito', 'codprov', 'coddepto', 'geometry']]\n",
    "higher = IGN[['IN1', 'NAM', 'geometry']]\n",
    "\n",
    "result = curated_overlay(lower, higher, low_index = ['codprov', 'coddepto', 'circuito'], high_index = ['IN1', 'NAM'])\n",
    "print(result)\n"
   ]
  },
  {
   "cell_type": "code",
   "execution_count": 223,
   "metadata": {},
   "outputs": [],
   "source": [
    "df = result[0]\n",
    "counts = df.groupby(['codprov', 'coddepto', 'IN1', 'NAM']).size().reset_index(name='counts')\n",
    "\n",
    "# Get the row indices with the highest counts within each group\n",
    "idx_max_counts = counts.groupby(['codprov', 'coddepto'])['counts'].idxmax()\n",
    "# Select the corresponding rows from the original DataFrame using the indices\n",
    "ref = counts.loc[idx_max_counts]\n"
   ]
  },
  {
   "cell_type": "code",
   "execution_count": 228,
   "metadata": {},
   "outputs": [
    {
     "data": {
      "text/html": [
       "<div>\n",
       "<style scoped>\n",
       "    .dataframe tbody tr th:only-of-type {\n",
       "        vertical-align: middle;\n",
       "    }\n",
       "\n",
       "    .dataframe tbody tr th {\n",
       "        vertical-align: top;\n",
       "    }\n",
       "\n",
       "    .dataframe thead th {\n",
       "        text-align: right;\n",
       "    }\n",
       "</style>\n",
       "<table border=\"1\" class=\"dataframe\">\n",
       "  <thead>\n",
       "    <tr style=\"text-align: right;\">\n",
       "      <th></th>\n",
       "      <th>codprov</th>\n",
       "      <th>coddepto</th>\n",
       "      <th>IN1</th>\n",
       "      <th>NAM</th>\n",
       "      <th>counts</th>\n",
       "    </tr>\n",
       "  </thead>\n",
       "  <tbody>\n",
       "    <tr>\n",
       "      <th>0</th>\n",
       "      <td>01</td>\n",
       "      <td>001</td>\n",
       "      <td>02007</td>\n",
       "      <td>Comuna 1</td>\n",
       "      <td>19</td>\n",
       "    </tr>\n",
       "    <tr>\n",
       "      <th>1</th>\n",
       "      <td>01</td>\n",
       "      <td>002</td>\n",
       "      <td>02014</td>\n",
       "      <td>Comuna 2</td>\n",
       "      <td>10</td>\n",
       "    </tr>\n",
       "    <tr>\n",
       "      <th>2</th>\n",
       "      <td>01</td>\n",
       "      <td>003</td>\n",
       "      <td>02021</td>\n",
       "      <td>Comuna 3</td>\n",
       "      <td>13</td>\n",
       "    </tr>\n",
       "    <tr>\n",
       "      <th>3</th>\n",
       "      <td>01</td>\n",
       "      <td>004</td>\n",
       "      <td>02028</td>\n",
       "      <td>Comuna 4</td>\n",
       "      <td>15</td>\n",
       "    </tr>\n",
       "    <tr>\n",
       "      <th>4</th>\n",
       "      <td>01</td>\n",
       "      <td>005</td>\n",
       "      <td>02035</td>\n",
       "      <td>Comuna 5</td>\n",
       "      <td>10</td>\n",
       "    </tr>\n",
       "  </tbody>\n",
       "</table>\n",
       "</div>"
      ],
      "text/plain": [
       "  codprov coddepto    IN1       NAM  counts\n",
       "0      01      001  02007  Comuna 1      19\n",
       "1      01      002  02014  Comuna 2      10\n",
       "2      01      003  02021  Comuna 3      13\n",
       "3      01      004  02028  Comuna 4      15\n",
       "4      01      005  02035  Comuna 5      10"
      ]
     },
     "execution_count": 228,
     "metadata": {},
     "output_type": "execute_result"
    }
   ],
   "source": [
    "## Claves 527 deptos, de CNE a IGN\n",
    "ref.head(5)"
   ]
  },
  {
   "cell_type": "code",
   "execution_count": 230,
   "metadata": {},
   "outputs": [],
   "source": [
    "# ref.loc[ref.IN1 == '82084']"
   ]
  },
  {
   "cell_type": "code",
   "execution_count": 232,
   "metadata": {},
   "outputs": [],
   "source": [
    "# codprov\tcoddepto con mas de un depto IGN:\n",
    "\n",
    "# Lugares que bordean con otros deptos y pueden dar lugar a error. Circuitos con depto incorrecto.\n",
    "# duplicates = df.groupby(['codprov', 'coddepto']).agg({'IN1' : ['nunique', 'unique'], 'NAM': 'unique'}).sort_values(('IN1', 'nunique')).tail(20)\n",
    "# duplicates\n"
   ]
  },
  {
   "cell_type": "code",
   "execution_count": null,
   "metadata": {},
   "outputs": [],
   "source": [
    "## Asignamos radios y circuitos espacialmente a los departamentos de IGN. Para evitar todo tipo de problemas con los codigos de deptos."
   ]
  },
  {
   "attachments": {},
   "cell_type": "markdown",
   "metadata": {},
   "source": [
    "# Radios en Circuitos\n",
    "#### Interseccion espacial"
   ]
  },
  {
   "cell_type": "code",
   "execution_count": null,
   "metadata": {},
   "outputs": [],
   "source": []
  },
  {
   "cell_type": "code",
   "execution_count": null,
   "metadata": {},
   "outputs": [
    {
     "data": {
      "text/plain": [
       "circuito    5589\n",
       "codprov     5563\n",
       "coddepto    5563\n",
       "seccion     1066\n",
       "geometry    5559\n",
       "dtype: int64"
      ]
     },
     "execution_count": 79,
     "metadata": {},
     "output_type": "execute_result"
    }
   ],
   "source": [
    "circuitos_ARG.count()"
   ]
  },
  {
   "cell_type": "code",
   "execution_count": null,
   "metadata": {},
   "outputs": [
    {
     "data": {
      "text/plain": [
       "circuito    2058\n",
       "codprov       24\n",
       "coddepto     138\n",
       "seccion        8\n",
       "geometry    5550\n",
       "dtype: int64"
      ]
     },
     "execution_count": 80,
     "metadata": {},
     "output_type": "execute_result"
    }
   ],
   "source": [
    "circuitos_ARG.nunique()"
   ]
  },
  {
   "cell_type": "code",
   "execution_count": null,
   "metadata": {},
   "outputs": [],
   "source": [
    "## Agregar codigos de provincia de INDEC\n",
    "codprovs = pd.read_csv('./codprovs.csv', dtype = 'str')\n",
    "codprovs['codprov'] = codprovs['codprov'].str.zfill(2)\n",
    "\n",
    "circuitos_ARG = circuitos_ARG.merge(codprovs, how = 'left')"
   ]
  },
  {
   "cell_type": "code",
   "execution_count": null,
   "metadata": {
    "scrolled": false
   },
   "outputs": [
    {
     "name": "stdout",
     "output_type": "stream",
     "text": [
      "['Ciudad Autónoma de Buenos Aires' nan]\n",
      "['Catamarca' nan]\n",
      "['Chaco' nan]\n",
      "['Chubut' nan]\n",
      "['Córdoba' nan]\n",
      "['Corrientes' nan]\n",
      "[nan 'Entre Ríos']\n",
      "[nan 'Formosa']\n",
      "[nan 'Jujuy']\n",
      "[nan 'La Pampa']\n",
      "[nan 'La Rioja']\n",
      "[nan 'Mendoza']\n",
      "[nan 'Misiones']\n",
      "[nan 'Neuquén']\n",
      "[nan 'Buenos Aires']\n",
      "[nan 'Río Negro']\n",
      "[nan 'Salta']\n",
      "[nan 'San Luis']\n",
      "[nan 'Santa Cruz']\n",
      "[nan 'Santa Fe']\n",
      "[nan 'Santiago del Estero']\n",
      "[nan 'San Juan']\n",
      "[nan 'Tierra del Fuego, Antártida e Islas del Atlántico Sur']\n",
      "[nan 'Tucumán']\n"
     ]
    }
   ],
   "source": [
    "\n",
    "result_list = []\n",
    "\n",
    "for indec_p in circuitos_ARG.indec_p.dropna().unique():\n",
    "    cne_prov = circuitos_ARG.loc[circuitos_ARG.indec_p.fillna(indec_p) == indec_p]\n",
    "    cne_prov = fix_geom(cne_prov.dropna(subset = 'geometry'))\n",
    "    print(cne_prov.nomprov.unique())\n",
    "\n",
    "    radios_prov = radios.loc[radios.PROV_ == indec_p]\n",
    "\n",
    "#     ## Correccion de errores\n",
    "#     radios_prov.loc[radios_prov.IN1 == '26028', 'DEPTO_'] = '063' # Esto es para adaptarse a un erorr en CNE\n",
    "# #             (la CNE tiene unido camarones al dpto martires, por error)\n",
    "\n",
    "    result_prov = []\n",
    "\n",
    "#     for dpto in cne_prov.indec_d.unique():\n",
    "\n",
    "#         if (cne_prov.indec_p.unique()[0] == '94') | (cne_prov.indec_p.unique()[0] == '22'):\n",
    "# #                     print('chaco o tdf')\n",
    "#             radios_dpto = radios_prov # En chaco y tdf, usar toda la provincia porque los codigos estan cambiados...\n",
    "#         else:\n",
    "#             radios_dpto = radios_prov.loc[radios_prov.DEPTO_ == dpto]\n",
    "\n",
    "# #         circ_dpto = cne_prov.loc[cne_prov.indec_d == dpto]\n",
    "\n",
    "# #     Check...\n",
    "#     fig, axs = plt.subplots(1)\n",
    "#     radios_prov.plot(ax = axs, alpha = .4)\n",
    "#     cne_prov.plot(ax = axs, alpha = .4)\n",
    "#     plt.show()\n",
    "\n",
    "    ## Intersectar los radios en cuestion con los polis de IGS.\n",
    "    overlay = gpd.overlay(radios_prov, cne_prov[['circuito', 'codprov', 'coddepto', 'geometry']], how='intersection')\n",
    "    \n",
    "    \n",
    "    if len(overlay) != 0: # Si hay interseccion\n",
    "        overlay['area'] = overlay.area\n",
    "\n",
    "        year = '2010'\n",
    "        # Quedarse con el que mas interseca (el radio se asigna al depto donde este mayor parte de su area.)\n",
    "        radios_in_circu = overlay.groupby(['PROV_', 'DEPTO_', 'FRACC_', 'COD_'+year]\n",
    "                                        ).apply(lambda x: x.nlargest(1, 'area')).reset_index(drop = True\n",
    "                    )[['codprov', 'coddepto', 'PROV_', 'DEPTO_', 'FRACC_', 'COD_'+year, 'IN1', 'circuito']]\n",
    "        \n",
    "        # radios_in_circu['FRACC_2'] = radios_in_circu['COD_'+year].str[5:7]\n",
    "        result_prov += [radios_in_circu]\n",
    "    else:\n",
    "#             print('sin interseccion en '+str(circ_dpto.departamen.unique()[0]))\n",
    "        print('sin interseccion en '+str(cne_prov.nomprov.unique()[0]))\n",
    "\n",
    "    result_prov = pd.concat(result_prov)\n",
    "\n",
    "    ## Tomar radios que se asociaron a mas de 1 circuito.\n",
    "#     Esto pasa cuando se usa la provincia entera para intersecar (ie. chaco, tdf)\n",
    "    duplicados = result_prov[result_prov.duplicated('COD_2010', keep = False)].sort_values('COD_2010')\n",
    "\n",
    "    if len(duplicados) > 0:\n",
    "\n",
    "        ## Volcarlos en 1 solo circuito.\n",
    "        overlay = gpd.overlay(gpd.GeoDataFrame(duplicados.drop('circuito', axis = 1).merge(radios)), \n",
    "                             gpd.GeoDataFrame(duplicados.merge(cne_prov))[['circuito', 'geometry']], how='intersection')\n",
    "\n",
    "        if len(overlay) != 0: # Si hay interseccion\n",
    "            overlay['area'] = overlay.area\n",
    "\n",
    "            year = '2010'\n",
    "            # Quedarse con el que mas interseca (el radio se asigna al depto donde este mayor parte de su area.)\n",
    "            res_dup_prov = overlay.groupby(['PROV_', 'DEPTO_', 'FRACC_', 'COD_'+year]\n",
    "                                        ).apply(lambda x: x.nlargest(1, 'area')\n",
    "                                               ).reset_index(drop = True)[['PROV_', 'DEPTO_', 'FRACC_', 'COD_'+year, 'IN1', 'circuito']]\n",
    "        result_prov = pd.concat([result_prov[~result_prov.duplicated('COD_2010', keep = False)], res_dup_prov])\n",
    "\n",
    "    result_list += [result_prov]\n",
    "\n",
    "result = pd.concat(result_list).drop_duplicates()\n"
   ]
  },
  {
   "cell_type": "code",
   "execution_count": null,
   "metadata": {},
   "outputs": [
    {
     "data": {
      "text/plain": [
       "PROV_          24\n",
       "DEPTO_        154\n",
       "FRACC_         99\n",
       "COD_2010    52401\n",
       "IN1           525\n",
       "geometry    52401\n",
       "dtype: int64"
      ]
     },
     "execution_count": 83,
     "metadata": {},
     "output_type": "execute_result"
    }
   ],
   "source": [
    "radios.nunique()"
   ]
  },
  {
   "cell_type": "code",
   "execution_count": null,
   "metadata": {},
   "outputs": [
    {
     "data": {
      "text/plain": [
       "codprov        24\n",
       "coddepto      138\n",
       "PROV_          24\n",
       "DEPTO_        154\n",
       "FRACC_         99\n",
       "COD_2010    52159\n",
       "IN1           525\n",
       "circuito     1974\n",
       "dtype: int64"
      ]
     },
     "execution_count": 84,
     "metadata": {},
     "output_type": "execute_result"
    }
   ],
   "source": [
    "result.nunique()"
   ]
  },
  {
   "cell_type": "code",
   "execution_count": null,
   "metadata": {},
   "outputs": [],
   "source": [
    "# Esto es lo extraido de la base\n",
    "# seccion_dpto = pd.read_csv('./../elecciones-ARG/datos/BD/seccion_table.csv', dtype = 'str')\n",
    "# seccion_dpto['distrito_id'] = seccion_dpto['distrito_id'].str.zfill(2)\n",
    "# seccion_dpto['seccion_id'] = seccion_dpto['seccion_id'].str.zfill(3)\n",
    "# seccion_dpto.nunique()\n",
    "\n",
    "## Este archivo esta basado en lo extraido de la base, pero trae los codigos usados en INDEC, etc (PROV_, DEPTO_)\n",
    "# result = pd.read_csv('./info/radios_circuitos-TTGL.csv', dtype= 'str')\n",
    "secciones_dptos_ref = pd.read_csv('./info/secciones_dptos_ref.csv')"
   ]
  },
  {
   "cell_type": "code",
   "execution_count": null,
   "metadata": {},
   "outputs": [],
   "source": [
    "secciones_dptos_ref = secciones_dptos_ref.dropna()\n",
    "secciones_dptos_ref['PROV_'] = secciones_dptos_ref.IDPROV.astype(int).astype(str).str.zfill(2)\n",
    "secciones_dptos_ref['DEPTO_'] = secciones_dptos_ref.IDDPTO.astype(int).astype(str).str.zfill(3)"
   ]
  },
  {
   "cell_type": "code",
   "execution_count": null,
   "metadata": {},
   "outputs": [
    {
     "data": {
      "text/html": [
       "<div>\n",
       "<style scoped>\n",
       "    .dataframe tbody tr th:only-of-type {\n",
       "        vertical-align: middle;\n",
       "    }\n",
       "\n",
       "    .dataframe tbody tr th {\n",
       "        vertical-align: top;\n",
       "    }\n",
       "\n",
       "    .dataframe thead th {\n",
       "        text-align: right;\n",
       "    }\n",
       "</style>\n",
       "<table border=\"1\" class=\"dataframe\">\n",
       "  <thead>\n",
       "    <tr style=\"text-align: right;\">\n",
       "      <th></th>\n",
       "      <th>PROV_</th>\n",
       "      <th>DEPTO_</th>\n",
       "      <th>distrito_id</th>\n",
       "      <th>seccion_id</th>\n",
       "      <th>seccionprovincial_id</th>\n",
       "      <th>seccion_nombre</th>\n",
       "    </tr>\n",
       "  </thead>\n",
       "  <tbody>\n",
       "    <tr>\n",
       "      <th>0</th>\n",
       "      <td>02</td>\n",
       "      <td>001</td>\n",
       "      <td>1</td>\n",
       "      <td>1</td>\n",
       "      <td>0</td>\n",
       "      <td>Comuna 01</td>\n",
       "    </tr>\n",
       "    <tr>\n",
       "      <th>1</th>\n",
       "      <td>02</td>\n",
       "      <td>002</td>\n",
       "      <td>1</td>\n",
       "      <td>2</td>\n",
       "      <td>0</td>\n",
       "      <td>Comuna 02</td>\n",
       "    </tr>\n",
       "    <tr>\n",
       "      <th>2</th>\n",
       "      <td>02</td>\n",
       "      <td>003</td>\n",
       "      <td>1</td>\n",
       "      <td>3</td>\n",
       "      <td>0</td>\n",
       "      <td>Comuna 03</td>\n",
       "    </tr>\n",
       "    <tr>\n",
       "      <th>3</th>\n",
       "      <td>02</td>\n",
       "      <td>004</td>\n",
       "      <td>1</td>\n",
       "      <td>4</td>\n",
       "      <td>0</td>\n",
       "      <td>Comuna 04</td>\n",
       "    </tr>\n",
       "    <tr>\n",
       "      <th>4</th>\n",
       "      <td>02</td>\n",
       "      <td>005</td>\n",
       "      <td>1</td>\n",
       "      <td>5</td>\n",
       "      <td>0</td>\n",
       "      <td>Comuna 05</td>\n",
       "    </tr>\n",
       "  </tbody>\n",
       "</table>\n",
       "</div>"
      ],
      "text/plain": [
       "  PROV_ DEPTO_  distrito_id  seccion_id  seccionprovincial_id seccion_nombre\n",
       "0    02    001            1           1                     0      Comuna 01\n",
       "1    02    002            1           2                     0      Comuna 02\n",
       "2    02    003            1           3                     0      Comuna 03\n",
       "3    02    004            1           4                     0      Comuna 04\n",
       "4    02    005            1           5                     0      Comuna 05"
      ]
     },
     "execution_count": 87,
     "metadata": {},
     "output_type": "execute_result"
    }
   ],
   "source": [
    "claves = secciones_dptos_ref[['PROV_', 'DEPTO_', 'distrito_id', 'seccion_id', 'seccionprovincial_id', 'seccion_nombre']]\n",
    "claves.head()"
   ]
  },
  {
   "cell_type": "code",
   "execution_count": null,
   "metadata": {},
   "outputs": [
    {
     "data": {
      "text/html": [
       "<div>\n",
       "<style scoped>\n",
       "    .dataframe tbody tr th:only-of-type {\n",
       "        vertical-align: middle;\n",
       "    }\n",
       "\n",
       "    .dataframe tbody tr th {\n",
       "        vertical-align: top;\n",
       "    }\n",
       "\n",
       "    .dataframe thead th {\n",
       "        text-align: right;\n",
       "    }\n",
       "</style>\n",
       "<table border=\"1\" class=\"dataframe\">\n",
       "  <thead>\n",
       "    <tr style=\"text-align: right;\">\n",
       "      <th></th>\n",
       "      <th>codprov</th>\n",
       "      <th>coddepto</th>\n",
       "      <th>PROV_</th>\n",
       "      <th>DEPTO_</th>\n",
       "      <th>FRACC_</th>\n",
       "      <th>COD_2010</th>\n",
       "      <th>IN1</th>\n",
       "      <th>circuito</th>\n",
       "    </tr>\n",
       "  </thead>\n",
       "  <tbody>\n",
       "    <tr>\n",
       "      <th>0</th>\n",
       "      <td>01</td>\n",
       "      <td>001</td>\n",
       "      <td>02</td>\n",
       "      <td>001</td>\n",
       "      <td>01</td>\n",
       "      <td>020010101</td>\n",
       "      <td>0214007</td>\n",
       "      <td>00005</td>\n",
       "    </tr>\n",
       "    <tr>\n",
       "      <th>1</th>\n",
       "      <td>01</td>\n",
       "      <td>001</td>\n",
       "      <td>02</td>\n",
       "      <td>001</td>\n",
       "      <td>02</td>\n",
       "      <td>020010201</td>\n",
       "      <td>0214007</td>\n",
       "      <td>00005</td>\n",
       "    </tr>\n",
       "    <tr>\n",
       "      <th>2</th>\n",
       "      <td>01</td>\n",
       "      <td>001</td>\n",
       "      <td>02</td>\n",
       "      <td>001</td>\n",
       "      <td>02</td>\n",
       "      <td>020010202</td>\n",
       "      <td>0214007</td>\n",
       "      <td>00005</td>\n",
       "    </tr>\n",
       "    <tr>\n",
       "      <th>3</th>\n",
       "      <td>01</td>\n",
       "      <td>001</td>\n",
       "      <td>02</td>\n",
       "      <td>001</td>\n",
       "      <td>02</td>\n",
       "      <td>020010203</td>\n",
       "      <td>0214007</td>\n",
       "      <td>00005</td>\n",
       "    </tr>\n",
       "    <tr>\n",
       "      <th>4</th>\n",
       "      <td>01</td>\n",
       "      <td>001</td>\n",
       "      <td>02</td>\n",
       "      <td>001</td>\n",
       "      <td>02</td>\n",
       "      <td>020010204</td>\n",
       "      <td>0214007</td>\n",
       "      <td>00005</td>\n",
       "    </tr>\n",
       "  </tbody>\n",
       "</table>\n",
       "</div>"
      ],
      "text/plain": [
       "  codprov coddepto PROV_ DEPTO_ FRACC_   COD_2010      IN1 circuito\n",
       "0      01      001    02    001     01  020010101  0214007    00005\n",
       "1      01      001    02    001     02  020010201  0214007    00005\n",
       "2      01      001    02    001     02  020010202  0214007    00005\n",
       "3      01      001    02    001     02  020010203  0214007    00005\n",
       "4      01      001    02    001     02  020010204  0214007    00005"
      ]
     },
     "execution_count": 88,
     "metadata": {},
     "output_type": "execute_result"
    }
   ],
   "source": [
    "result.head()"
   ]
  },
  {
   "cell_type": "code",
   "execution_count": null,
   "metadata": {},
   "outputs": [],
   "source": [
    "result_c = result.merge(claves)"
   ]
  },
  {
   "cell_type": "code",
   "execution_count": 96,
   "metadata": {},
   "outputs": [],
   "source": [
    "# result_c.to_csv('./info/radios_circuitos_secciones_ref.csv', index = False)  #### Hay problema con IN1... a revisar. O bien en el codigo que sigue debajo."
   ]
  },
  {
   "cell_type": "code",
   "execution_count": 121,
   "metadata": {},
   "outputs": [],
   "source": [
    "result_c.drop('IN1', axis = 1).to_csv('./../elecciones-ARG/datos/censo/radios_circuitos_secciones_ref.csv', index = False)"
   ]
  },
  {
   "cell_type": "code",
   "execution_count": 131,
   "metadata": {},
   "outputs": [
    {
     "data": {
      "text/html": [
       "<div>\n",
       "<style scoped>\n",
       "    .dataframe tbody tr th:only-of-type {\n",
       "        vertical-align: middle;\n",
       "    }\n",
       "\n",
       "    .dataframe tbody tr th {\n",
       "        vertical-align: top;\n",
       "    }\n",
       "\n",
       "    .dataframe thead th {\n",
       "        text-align: right;\n",
       "    }\n",
       "</style>\n",
       "<table border=\"1\" class=\"dataframe\">\n",
       "  <thead>\n",
       "    <tr style=\"text-align: right;\">\n",
       "      <th></th>\n",
       "      <th>codprov</th>\n",
       "      <th>coddepto</th>\n",
       "      <th>PROV_</th>\n",
       "      <th>DEPTO_</th>\n",
       "    </tr>\n",
       "  </thead>\n",
       "  <tbody>\n",
       "    <tr>\n",
       "      <th>0</th>\n",
       "      <td>01</td>\n",
       "      <td>001</td>\n",
       "      <td>02</td>\n",
       "      <td>001</td>\n",
       "    </tr>\n",
       "    <tr>\n",
       "      <th>329</th>\n",
       "      <td>01</td>\n",
       "      <td>002</td>\n",
       "      <td>02</td>\n",
       "      <td>002</td>\n",
       "    </tr>\n",
       "    <tr>\n",
       "      <th>527</th>\n",
       "      <td>01</td>\n",
       "      <td>003</td>\n",
       "      <td>02</td>\n",
       "      <td>003</td>\n",
       "    </tr>\n",
       "    <tr>\n",
       "      <th>781</th>\n",
       "      <td>01</td>\n",
       "      <td>004</td>\n",
       "      <td>02</td>\n",
       "      <td>004</td>\n",
       "    </tr>\n",
       "    <tr>\n",
       "      <th>1033</th>\n",
       "      <td>01</td>\n",
       "      <td>005</td>\n",
       "      <td>02</td>\n",
       "      <td>005</td>\n",
       "    </tr>\n",
       "    <tr>\n",
       "      <th>...</th>\n",
       "      <td>...</td>\n",
       "      <td>...</td>\n",
       "      <td>...</td>\n",
       "      <td>...</td>\n",
       "    </tr>\n",
       "    <tr>\n",
       "      <th>1474</th>\n",
       "      <td>23</td>\n",
       "      <td>016</td>\n",
       "      <td>90</td>\n",
       "      <td>105</td>\n",
       "    </tr>\n",
       "    <tr>\n",
       "      <th>1597</th>\n",
       "      <td>23</td>\n",
       "      <td>014</td>\n",
       "      <td>90</td>\n",
       "      <td>112</td>\n",
       "    </tr>\n",
       "    <tr>\n",
       "      <th>1641</th>\n",
       "      <td>23</td>\n",
       "      <td>015</td>\n",
       "      <td>90</td>\n",
       "      <td>119</td>\n",
       "    </tr>\n",
       "    <tr>\n",
       "      <th>1647</th>\n",
       "      <td>23</td>\n",
       "      <td>016</td>\n",
       "      <td>90</td>\n",
       "      <td>119</td>\n",
       "    </tr>\n",
       "    <tr>\n",
       "      <th>1701</th>\n",
       "      <td>23</td>\n",
       "      <td>002</td>\n",
       "      <td>90</td>\n",
       "      <td>119</td>\n",
       "    </tr>\n",
       "  </tbody>\n",
       "</table>\n",
       "<p>629 rows × 4 columns</p>\n",
       "</div>"
      ],
      "text/plain": [
       "     codprov coddepto PROV_ DEPTO_\n",
       "0         01      001    02    001\n",
       "329       01      002    02    002\n",
       "527       01      003    02    003\n",
       "781       01      004    02    004\n",
       "1033      01      005    02    005\n",
       "...      ...      ...   ...    ...\n",
       "1474      23      016    90    105\n",
       "1597      23      014    90    112\n",
       "1641      23      015    90    119\n",
       "1647      23      016    90    119\n",
       "1701      23      002    90    119\n",
       "\n",
       "[629 rows x 4 columns]"
      ]
     },
     "execution_count": 131,
     "metadata": {},
     "output_type": "execute_result"
    }
   ],
   "source": [
    "result[['codprov', 'coddepto', 'PROV_', 'DEPTO_']].drop_duplicates()"
   ]
  },
  {
   "cell_type": "code",
   "execution_count": 125,
   "metadata": {},
   "outputs": [
    {
     "data": {
      "text/html": [
       "<div>\n",
       "<style scoped>\n",
       "    .dataframe tbody tr th:only-of-type {\n",
       "        vertical-align: middle;\n",
       "    }\n",
       "\n",
       "    .dataframe tbody tr th {\n",
       "        vertical-align: top;\n",
       "    }\n",
       "\n",
       "    .dataframe thead th {\n",
       "        text-align: right;\n",
       "    }\n",
       "</style>\n",
       "<table border=\"1\" class=\"dataframe\">\n",
       "  <thead>\n",
       "    <tr style=\"text-align: right;\">\n",
       "      <th></th>\n",
       "      <th>codprov</th>\n",
       "      <th>coddepto</th>\n",
       "      <th>PROV_</th>\n",
       "      <th>DEPTO_</th>\n",
       "      <th>FRACC_</th>\n",
       "      <th>COD_2010</th>\n",
       "      <th>circuito</th>\n",
       "      <th>distrito_id</th>\n",
       "      <th>seccion_id</th>\n",
       "      <th>seccionprovincial_id</th>\n",
       "      <th>seccion_nombre</th>\n",
       "    </tr>\n",
       "  </thead>\n",
       "  <tbody>\n",
       "    <tr>\n",
       "      <th>0</th>\n",
       "      <td>01</td>\n",
       "      <td>001</td>\n",
       "      <td>02</td>\n",
       "      <td>001</td>\n",
       "      <td>01</td>\n",
       "      <td>020010101</td>\n",
       "      <td>00005</td>\n",
       "      <td>1</td>\n",
       "      <td>1</td>\n",
       "      <td>0</td>\n",
       "      <td>Comuna 01</td>\n",
       "    </tr>\n",
       "    <tr>\n",
       "      <th>1</th>\n",
       "      <td>01</td>\n",
       "      <td>001</td>\n",
       "      <td>02</td>\n",
       "      <td>001</td>\n",
       "      <td>02</td>\n",
       "      <td>020010201</td>\n",
       "      <td>00005</td>\n",
       "      <td>1</td>\n",
       "      <td>1</td>\n",
       "      <td>0</td>\n",
       "      <td>Comuna 01</td>\n",
       "    </tr>\n",
       "    <tr>\n",
       "      <th>2</th>\n",
       "      <td>01</td>\n",
       "      <td>001</td>\n",
       "      <td>02</td>\n",
       "      <td>001</td>\n",
       "      <td>02</td>\n",
       "      <td>020010202</td>\n",
       "      <td>00005</td>\n",
       "      <td>1</td>\n",
       "      <td>1</td>\n",
       "      <td>0</td>\n",
       "      <td>Comuna 01</td>\n",
       "    </tr>\n",
       "    <tr>\n",
       "      <th>3</th>\n",
       "      <td>01</td>\n",
       "      <td>001</td>\n",
       "      <td>02</td>\n",
       "      <td>001</td>\n",
       "      <td>02</td>\n",
       "      <td>020010203</td>\n",
       "      <td>00005</td>\n",
       "      <td>1</td>\n",
       "      <td>1</td>\n",
       "      <td>0</td>\n",
       "      <td>Comuna 01</td>\n",
       "    </tr>\n",
       "    <tr>\n",
       "      <th>4</th>\n",
       "      <td>01</td>\n",
       "      <td>001</td>\n",
       "      <td>02</td>\n",
       "      <td>001</td>\n",
       "      <td>02</td>\n",
       "      <td>020010204</td>\n",
       "      <td>00005</td>\n",
       "      <td>1</td>\n",
       "      <td>1</td>\n",
       "      <td>0</td>\n",
       "      <td>Comuna 01</td>\n",
       "    </tr>\n",
       "  </tbody>\n",
       "</table>\n",
       "</div>"
      ],
      "text/plain": [
       "  codprov coddepto PROV_ DEPTO_ FRACC_   COD_2010 circuito  distrito_id  \\\n",
       "0      01      001    02    001     01  020010101    00005            1   \n",
       "1      01      001    02    001     02  020010201    00005            1   \n",
       "2      01      001    02    001     02  020010202    00005            1   \n",
       "3      01      001    02    001     02  020010203    00005            1   \n",
       "4      01      001    02    001     02  020010204    00005            1   \n",
       "\n",
       "   seccion_id  seccionprovincial_id seccion_nombre  \n",
       "0           1                     0      Comuna 01  \n",
       "1           1                     0      Comuna 01  \n",
       "2           1                     0      Comuna 01  \n",
       "3           1                     0      Comuna 01  \n",
       "4           1                     0      Comuna 01  "
      ]
     },
     "execution_count": 125,
     "metadata": {},
     "output_type": "execute_result"
    }
   ],
   "source": [
    "result_c.drop('IN1', axis = 1).head()"
   ]
  },
  {
   "cell_type": "code",
   "execution_count": 128,
   "metadata": {},
   "outputs": [
    {
     "data": {
      "text/html": [
       "<div>\n",
       "<style scoped>\n",
       "    .dataframe tbody tr th:only-of-type {\n",
       "        vertical-align: middle;\n",
       "    }\n",
       "\n",
       "    .dataframe tbody tr th {\n",
       "        vertical-align: top;\n",
       "    }\n",
       "\n",
       "    .dataframe thead th {\n",
       "        text-align: right;\n",
       "    }\n",
       "</style>\n",
       "<table border=\"1\" class=\"dataframe\">\n",
       "  <thead>\n",
       "    <tr style=\"text-align: right;\">\n",
       "      <th></th>\n",
       "      <th>codprov</th>\n",
       "      <th>coddepto</th>\n",
       "      <th>PROV_</th>\n",
       "      <th>DEPTO_</th>\n",
       "      <th>distrito_id</th>\n",
       "      <th>seccion_id</th>\n",
       "      <th>seccion_nombre</th>\n",
       "    </tr>\n",
       "  </thead>\n",
       "  <tbody>\n",
       "    <tr>\n",
       "      <th>0</th>\n",
       "      <td>01</td>\n",
       "      <td>001</td>\n",
       "      <td>02</td>\n",
       "      <td>001</td>\n",
       "      <td>1</td>\n",
       "      <td>1</td>\n",
       "      <td>Comuna 01</td>\n",
       "    </tr>\n",
       "    <tr>\n",
       "      <th>329</th>\n",
       "      <td>01</td>\n",
       "      <td>002</td>\n",
       "      <td>02</td>\n",
       "      <td>002</td>\n",
       "      <td>1</td>\n",
       "      <td>2</td>\n",
       "      <td>Comuna 02</td>\n",
       "    </tr>\n",
       "    <tr>\n",
       "      <th>527</th>\n",
       "      <td>01</td>\n",
       "      <td>003</td>\n",
       "      <td>02</td>\n",
       "      <td>003</td>\n",
       "      <td>1</td>\n",
       "      <td>3</td>\n",
       "      <td>Comuna 03</td>\n",
       "    </tr>\n",
       "    <tr>\n",
       "      <th>781</th>\n",
       "      <td>01</td>\n",
       "      <td>004</td>\n",
       "      <td>02</td>\n",
       "      <td>004</td>\n",
       "      <td>1</td>\n",
       "      <td>4</td>\n",
       "      <td>Comuna 04</td>\n",
       "    </tr>\n",
       "    <tr>\n",
       "      <th>1033</th>\n",
       "      <td>01</td>\n",
       "      <td>005</td>\n",
       "      <td>02</td>\n",
       "      <td>005</td>\n",
       "      <td>1</td>\n",
       "      <td>5</td>\n",
       "      <td>Comuna 05</td>\n",
       "    </tr>\n",
       "    <tr>\n",
       "      <th>...</th>\n",
       "      <td>...</td>\n",
       "      <td>...</td>\n",
       "      <td>...</td>\n",
       "      <td>...</td>\n",
       "      <td>...</td>\n",
       "      <td>...</td>\n",
       "      <td>...</td>\n",
       "    </tr>\n",
       "    <tr>\n",
       "      <th>51916</th>\n",
       "      <td>23</td>\n",
       "      <td>016</td>\n",
       "      <td>90</td>\n",
       "      <td>105</td>\n",
       "      <td>23</td>\n",
       "      <td>16</td>\n",
       "      <td>Tafí Viejo</td>\n",
       "    </tr>\n",
       "    <tr>\n",
       "      <th>52039</th>\n",
       "      <td>23</td>\n",
       "      <td>014</td>\n",
       "      <td>90</td>\n",
       "      <td>112</td>\n",
       "      <td>23</td>\n",
       "      <td>14</td>\n",
       "      <td>Trancas</td>\n",
       "    </tr>\n",
       "    <tr>\n",
       "      <th>52083</th>\n",
       "      <td>23</td>\n",
       "      <td>015</td>\n",
       "      <td>90</td>\n",
       "      <td>119</td>\n",
       "      <td>23</td>\n",
       "      <td>15</td>\n",
       "      <td>Yerba Buena</td>\n",
       "    </tr>\n",
       "    <tr>\n",
       "      <th>52089</th>\n",
       "      <td>23</td>\n",
       "      <td>016</td>\n",
       "      <td>90</td>\n",
       "      <td>119</td>\n",
       "      <td>23</td>\n",
       "      <td>15</td>\n",
       "      <td>Yerba Buena</td>\n",
       "    </tr>\n",
       "    <tr>\n",
       "      <th>52143</th>\n",
       "      <td>23</td>\n",
       "      <td>002</td>\n",
       "      <td>90</td>\n",
       "      <td>119</td>\n",
       "      <td>23</td>\n",
       "      <td>15</td>\n",
       "      <td>Yerba Buena</td>\n",
       "    </tr>\n",
       "  </tbody>\n",
       "</table>\n",
       "<p>629 rows × 7 columns</p>\n",
       "</div>"
      ],
      "text/plain": [
       "      codprov coddepto PROV_ DEPTO_  distrito_id  seccion_id seccion_nombre\n",
       "0          01      001    02    001            1           1      Comuna 01\n",
       "329        01      002    02    002            1           2      Comuna 02\n",
       "527        01      003    02    003            1           3      Comuna 03\n",
       "781        01      004    02    004            1           4      Comuna 04\n",
       "1033       01      005    02    005            1           5      Comuna 05\n",
       "...       ...      ...   ...    ...          ...         ...            ...\n",
       "51916      23      016    90    105           23          16     Tafí Viejo\n",
       "52039      23      014    90    112           23          14        Trancas\n",
       "52083      23      015    90    119           23          15    Yerba Buena\n",
       "52089      23      016    90    119           23          15    Yerba Buena\n",
       "52143      23      002    90    119           23          15    Yerba Buena\n",
       "\n",
       "[629 rows x 7 columns]"
      ]
     },
     "execution_count": 128,
     "metadata": {},
     "output_type": "execute_result"
    }
   ],
   "source": [
    "result_c[['codprov', 'coddepto', 'PROV_', 'DEPTO_', 'distrito_id', 'seccion_id', 'seccion_nombre']].drop_duplicates()\n",
    "\n"
   ]
  },
  {
   "cell_type": "code",
   "execution_count": null,
   "metadata": {},
   "outputs": [],
   "source": [
    "xx"
   ]
  },
  {
   "cell_type": "markdown",
   "metadata": {},
   "source": [
    "## Codprov - Coddepto - IN1"
   ]
  },
  {
   "cell_type": "code",
   "execution_count": null,
   "metadata": {},
   "outputs": [],
   "source": [
    "pd.options.display.max_rows = 99"
   ]
  },
  {
   "cell_type": "code",
   "execution_count": null,
   "metadata": {
    "scrolled": false
   },
   "outputs": [
    {
     "ename": "TypeError",
     "evalue": "incompatible index of inserted column with frame index",
     "output_type": "error",
     "traceback": [
      "\u001b[0;31m---------------------------------------------------------------------------\u001b[0m",
      "\u001b[0;31mValueError\u001b[0m                                Traceback (most recent call last)",
      "File \u001b[0;32m~/anaconda3/envs/base2/lib/python3.11/site-packages/pandas/core/frame.py:11610\u001b[0m, in \u001b[0;36m_reindex_for_setitem\u001b[0;34m(value, index)\u001b[0m\n\u001b[1;32m  11609\u001b[0m \u001b[39mtry\u001b[39;00m:\n\u001b[0;32m> 11610\u001b[0m     reindexed_value \u001b[39m=\u001b[39m value\u001b[39m.\u001b[39;49mreindex(index)\u001b[39m.\u001b[39m_values\n\u001b[1;32m  11611\u001b[0m \u001b[39mexcept\u001b[39;00m \u001b[39mValueError\u001b[39;00m \u001b[39mas\u001b[39;00m err:\n\u001b[1;32m  11612\u001b[0m     \u001b[39m# raised in MultiIndex.from_tuples, see test_insert_error_msmgs\u001b[39;00m\n",
      "File \u001b[0;32m~/anaconda3/envs/base2/lib/python3.11/site-packages/pandas/core/series.py:4918\u001b[0m, in \u001b[0;36mSeries.reindex\u001b[0;34m(self, index, axis, method, copy, level, fill_value, limit, tolerance)\u001b[0m\n\u001b[1;32m   4901\u001b[0m \u001b[39m@doc\u001b[39m(\n\u001b[1;32m   4902\u001b[0m     NDFrame\u001b[39m.\u001b[39mreindex,  \u001b[39m# type: ignore[has-type]\u001b[39;00m\n\u001b[1;32m   4903\u001b[0m     klass\u001b[39m=\u001b[39m_shared_doc_kwargs[\u001b[39m\"\u001b[39m\u001b[39mklass\u001b[39m\u001b[39m\"\u001b[39m],\n\u001b[0;32m   (...)\u001b[0m\n\u001b[1;32m   4916\u001b[0m     tolerance\u001b[39m=\u001b[39m\u001b[39mNone\u001b[39;00m,\n\u001b[1;32m   4917\u001b[0m ) \u001b[39m-\u001b[39m\u001b[39m>\u001b[39m Series:\n\u001b[0;32m-> 4918\u001b[0m     \u001b[39mreturn\u001b[39;00m \u001b[39msuper\u001b[39;49m()\u001b[39m.\u001b[39;49mreindex(\n\u001b[1;32m   4919\u001b[0m         index\u001b[39m=\u001b[39;49mindex,\n\u001b[1;32m   4920\u001b[0m         method\u001b[39m=\u001b[39;49mmethod,\n\u001b[1;32m   4921\u001b[0m         copy\u001b[39m=\u001b[39;49mcopy,\n\u001b[1;32m   4922\u001b[0m         level\u001b[39m=\u001b[39;49mlevel,\n\u001b[1;32m   4923\u001b[0m         fill_value\u001b[39m=\u001b[39;49mfill_value,\n\u001b[1;32m   4924\u001b[0m         limit\u001b[39m=\u001b[39;49mlimit,\n\u001b[1;32m   4925\u001b[0m         tolerance\u001b[39m=\u001b[39;49mtolerance,\n\u001b[1;32m   4926\u001b[0m     )\n",
      "File \u001b[0;32m~/anaconda3/envs/base2/lib/python3.11/site-packages/pandas/core/generic.py:5360\u001b[0m, in \u001b[0;36mNDFrame.reindex\u001b[0;34m(self, labels, index, columns, axis, method, copy, level, fill_value, limit, tolerance)\u001b[0m\n\u001b[1;32m   5359\u001b[0m \u001b[39m# perform the reindex on the axes\u001b[39;00m\n\u001b[0;32m-> 5360\u001b[0m \u001b[39mreturn\u001b[39;00m \u001b[39mself\u001b[39;49m\u001b[39m.\u001b[39;49m_reindex_axes(\n\u001b[1;32m   5361\u001b[0m     axes, level, limit, tolerance, method, fill_value, copy\n\u001b[1;32m   5362\u001b[0m )\u001b[39m.\u001b[39m__finalize__(\u001b[39mself\u001b[39m, method\u001b[39m=\u001b[39m\u001b[39m\"\u001b[39m\u001b[39mreindex\u001b[39m\u001b[39m\"\u001b[39m)\n",
      "File \u001b[0;32m~/anaconda3/envs/base2/lib/python3.11/site-packages/pandas/core/generic.py:5375\u001b[0m, in \u001b[0;36mNDFrame._reindex_axes\u001b[0;34m(self, axes, level, limit, tolerance, method, fill_value, copy)\u001b[0m\n\u001b[1;32m   5374\u001b[0m ax \u001b[39m=\u001b[39m \u001b[39mself\u001b[39m\u001b[39m.\u001b[39m_get_axis(a)\n\u001b[0;32m-> 5375\u001b[0m new_index, indexer \u001b[39m=\u001b[39m ax\u001b[39m.\u001b[39;49mreindex(\n\u001b[1;32m   5376\u001b[0m     labels, level\u001b[39m=\u001b[39;49mlevel, limit\u001b[39m=\u001b[39;49mlimit, tolerance\u001b[39m=\u001b[39;49mtolerance, method\u001b[39m=\u001b[39;49mmethod\n\u001b[1;32m   5377\u001b[0m )\n\u001b[1;32m   5379\u001b[0m axis \u001b[39m=\u001b[39m \u001b[39mself\u001b[39m\u001b[39m.\u001b[39m_get_axis_number(a)\n",
      "File \u001b[0;32m~/anaconda3/envs/base2/lib/python3.11/site-packages/pandas/core/indexes/base.py:4278\u001b[0m, in \u001b[0;36mIndex.reindex\u001b[0;34m(self, target, method, level, limit, tolerance)\u001b[0m\n\u001b[1;32m   4276\u001b[0m             indexer, _ \u001b[39m=\u001b[39m \u001b[39mself\u001b[39m\u001b[39m.\u001b[39mget_indexer_non_unique(target)\n\u001b[0;32m-> 4278\u001b[0m target \u001b[39m=\u001b[39m \u001b[39mself\u001b[39;49m\u001b[39m.\u001b[39;49m_wrap_reindex_result(target, indexer, preserve_names)\n\u001b[1;32m   4279\u001b[0m \u001b[39mreturn\u001b[39;00m target, indexer\n",
      "File \u001b[0;32m~/anaconda3/envs/base2/lib/python3.11/site-packages/pandas/core/indexes/multi.py:2490\u001b[0m, in \u001b[0;36mMultiIndex._wrap_reindex_result\u001b[0;34m(self, target, indexer, preserve_names)\u001b[0m\n\u001b[1;32m   2489\u001b[0m \u001b[39mtry\u001b[39;00m:\n\u001b[0;32m-> 2490\u001b[0m     target \u001b[39m=\u001b[39m MultiIndex\u001b[39m.\u001b[39;49mfrom_tuples(target)\n\u001b[1;32m   2491\u001b[0m \u001b[39mexcept\u001b[39;00m \u001b[39mTypeError\u001b[39;00m:\n\u001b[1;32m   2492\u001b[0m     \u001b[39m# not all tuples, see test_constructor_dict_multiindex_reindex_flat\u001b[39;00m\n",
      "File \u001b[0;32m~/anaconda3/envs/base2/lib/python3.11/site-packages/pandas/core/indexes/multi.py:211\u001b[0m, in \u001b[0;36mnames_compat.<locals>.new_meth\u001b[0;34m(self_or_cls, *args, **kwargs)\u001b[0m\n\u001b[1;32m    209\u001b[0m     kwargs[\u001b[39m\"\u001b[39m\u001b[39mnames\u001b[39m\u001b[39m\"\u001b[39m] \u001b[39m=\u001b[39m kwargs\u001b[39m.\u001b[39mpop(\u001b[39m\"\u001b[39m\u001b[39mname\u001b[39m\u001b[39m\"\u001b[39m)\n\u001b[0;32m--> 211\u001b[0m \u001b[39mreturn\u001b[39;00m meth(self_or_cls, \u001b[39m*\u001b[39;49margs, \u001b[39m*\u001b[39;49m\u001b[39m*\u001b[39;49mkwargs)\n",
      "File \u001b[0;32m~/anaconda3/envs/base2/lib/python3.11/site-packages/pandas/core/indexes/multi.py:590\u001b[0m, in \u001b[0;36mMultiIndex.from_tuples\u001b[0;34m(cls, tuples, sortorder, names)\u001b[0m\n\u001b[1;32m    588\u001b[0m         tuples \u001b[39m=\u001b[39m np\u001b[39m.\u001b[39masarray(tuples\u001b[39m.\u001b[39m_values)\n\u001b[0;32m--> 590\u001b[0m     arrays \u001b[39m=\u001b[39m \u001b[39mlist\u001b[39m(lib\u001b[39m.\u001b[39mtuples_to_object_array(tuples)\u001b[39m.\u001b[39mT)\n\u001b[1;32m    591\u001b[0m \u001b[39melif\u001b[39;00m \u001b[39misinstance\u001b[39m(tuples, \u001b[39mlist\u001b[39m):\n",
      "File \u001b[0;32m~/anaconda3/envs/base2/lib/python3.11/site-packages/pandas/_libs/lib.pyx:2894\u001b[0m, in \u001b[0;36mpandas._libs.lib.tuples_to_object_array\u001b[0;34m()\u001b[0m\n",
      "\u001b[0;31mValueError\u001b[0m: Buffer dtype mismatch, expected 'Python object' but got 'long'",
      "\nThe above exception was the direct cause of the following exception:\n",
      "\u001b[0;31mTypeError\u001b[0m                                 Traceback (most recent call last)",
      "\u001b[0;32m/tmp/ipykernel_915914/147721104.py\u001b[0m in \u001b[0;36m?\u001b[0;34m()\u001b[0m\n\u001b[1;32m      1\u001b[0m \u001b[0;31m## Cuando codprov y coddpto tienen mas de un IN1, elegir el que mas radios tiene en la interseccion.\u001b[0m\u001b[0;34m\u001b[0m\u001b[0;34m\u001b[0m\u001b[0m\n\u001b[1;32m      2\u001b[0m \u001b[0;34m\u001b[0m\u001b[0m\n\u001b[1;32m      3\u001b[0m \u001b[0mprov_dpto_nuniques\u001b[0m \u001b[0;34m=\u001b[0m \u001b[0mresult\u001b[0m\u001b[0;34m.\u001b[0m\u001b[0mgroupby\u001b[0m\u001b[0;34m(\u001b[0m\u001b[0;34m[\u001b[0m\u001b[0;34m'codprov'\u001b[0m\u001b[0;34m,\u001b[0m \u001b[0;34m'coddepto'\u001b[0m\u001b[0;34m,\u001b[0m \u001b[0;34m'IN1'\u001b[0m\u001b[0;34m]\u001b[0m\u001b[0;34m)\u001b[0m\u001b[0;34m.\u001b[0m\u001b[0mnunique\u001b[0m\u001b[0;34m(\u001b[0m\u001b[0;34m)\u001b[0m\u001b[0;34m.\u001b[0m\u001b[0mreset_index\u001b[0m\u001b[0;34m(\u001b[0m\u001b[0;34m)\u001b[0m\u001b[0;34m\u001b[0m\u001b[0;34m\u001b[0m\u001b[0m\n\u001b[0;32m----> 4\u001b[0;31m \u001b[0mprov_dpto_nuniques\u001b[0m\u001b[0;34m[\u001b[0m\u001b[0;34m'pct'\u001b[0m\u001b[0;34m]\u001b[0m \u001b[0;34m=\u001b[0m \u001b[0mprov_dpto_nuniques\u001b[0m\u001b[0;34m.\u001b[0m\u001b[0mgroupby\u001b[0m\u001b[0;34m(\u001b[0m\u001b[0;34m[\u001b[0m\u001b[0;34m'codprov'\u001b[0m\u001b[0;34m,\u001b[0m \u001b[0;34m'coddepto'\u001b[0m\u001b[0;34m]\u001b[0m\u001b[0;34m)\u001b[0m\u001b[0;34m[\u001b[0m\u001b[0;34m'COD_2010'\u001b[0m\u001b[0;34m]\u001b[0m\u001b[0;34m.\u001b[0m\u001b[0mapply\u001b[0m\u001b[0;34m(\u001b[0m\u001b[0;32mlambda\u001b[0m \u001b[0mx\u001b[0m\u001b[0;34m:\u001b[0m \u001b[0mx\u001b[0m\u001b[0;34m/\u001b[0m\u001b[0mx\u001b[0m\u001b[0;34m.\u001b[0m\u001b[0msum\u001b[0m\u001b[0;34m(\u001b[0m\u001b[0;34m)\u001b[0m\u001b[0;34m)\u001b[0m\u001b[0;34m.\u001b[0m\u001b[0mround\u001b[0m\u001b[0;34m(\u001b[0m\u001b[0;36m2\u001b[0m\u001b[0;34m)\u001b[0m\u001b[0;34m\u001b[0m\u001b[0;34m\u001b[0m\u001b[0m\n\u001b[0m\u001b[1;32m      5\u001b[0m \u001b[0mprov_dpto_nuniques\u001b[0m\u001b[0;34m[\u001b[0m\u001b[0;34m'test'\u001b[0m\u001b[0;34m]\u001b[0m \u001b[0;34m=\u001b[0m \u001b[0mabs\u001b[0m\u001b[0;34m(\u001b[0m\u001b[0mprov_dpto_nuniques\u001b[0m\u001b[0;34m[\u001b[0m\u001b[0;34m'pct'\u001b[0m\u001b[0;34m]\u001b[0m \u001b[0;34m-\u001b[0m \u001b[0;36m.5\u001b[0m\u001b[0;34m)\u001b[0m\u001b[0;34m\u001b[0m\u001b[0;34m\u001b[0m\u001b[0m\n\u001b[1;32m      6\u001b[0m \u001b[0;34m\u001b[0m\u001b[0m\n\u001b[1;32m      7\u001b[0m \u001b[0;31m# test.sort_values('test').head(20).sort_values('IN1')\u001b[0m\u001b[0;34m\u001b[0m\u001b[0;34m\u001b[0m\u001b[0m\n",
      "\u001b[0;32m~/anaconda3/envs/base2/lib/python3.11/site-packages/pandas/core/frame.py\u001b[0m in \u001b[0;36m?\u001b[0;34m(self, key, value)\u001b[0m\n\u001b[1;32m   3946\u001b[0m             \u001b[0;31m# Column to set is duplicated\u001b[0m\u001b[0;34m\u001b[0m\u001b[0;34m\u001b[0m\u001b[0m\n\u001b[1;32m   3947\u001b[0m             \u001b[0mself\u001b[0m\u001b[0;34m.\u001b[0m\u001b[0m_setitem_array\u001b[0m\u001b[0;34m(\u001b[0m\u001b[0;34m[\u001b[0m\u001b[0mkey\u001b[0m\u001b[0;34m]\u001b[0m\u001b[0;34m,\u001b[0m \u001b[0mvalue\u001b[0m\u001b[0;34m)\u001b[0m\u001b[0;34m\u001b[0m\u001b[0;34m\u001b[0m\u001b[0m\n\u001b[1;32m   3948\u001b[0m         \u001b[0;32melse\u001b[0m\u001b[0;34m:\u001b[0m\u001b[0;34m\u001b[0m\u001b[0;34m\u001b[0m\u001b[0m\n\u001b[1;32m   3949\u001b[0m             \u001b[0;31m# set column\u001b[0m\u001b[0;34m\u001b[0m\u001b[0;34m\u001b[0m\u001b[0m\n\u001b[0;32m-> 3950\u001b[0;31m             \u001b[0mself\u001b[0m\u001b[0;34m.\u001b[0m\u001b[0m_set_item\u001b[0m\u001b[0;34m(\u001b[0m\u001b[0mkey\u001b[0m\u001b[0;34m,\u001b[0m \u001b[0mvalue\u001b[0m\u001b[0;34m)\u001b[0m\u001b[0;34m\u001b[0m\u001b[0;34m\u001b[0m\u001b[0m\n\u001b[0m",
      "\u001b[0;32m~/anaconda3/envs/base2/lib/python3.11/site-packages/pandas/core/frame.py\u001b[0m in \u001b[0;36m?\u001b[0;34m(self, key, value)\u001b[0m\n\u001b[1;32m   4139\u001b[0m \u001b[0;34m\u001b[0m\u001b[0m\n\u001b[1;32m   4140\u001b[0m         \u001b[0mSeries\u001b[0m\u001b[0;34m/\u001b[0m\u001b[0mTimeSeries\u001b[0m \u001b[0mwill\u001b[0m \u001b[0mbe\u001b[0m \u001b[0mconformed\u001b[0m \u001b[0mto\u001b[0m \u001b[0mthe\u001b[0m \u001b[0mDataFrames\u001b[0m \u001b[0mindex\u001b[0m \u001b[0mto\u001b[0m\u001b[0;34m\u001b[0m\u001b[0;34m\u001b[0m\u001b[0m\n\u001b[1;32m   4141\u001b[0m         \u001b[0mensure\u001b[0m \u001b[0mhomogeneity\u001b[0m\u001b[0;34m.\u001b[0m\u001b[0;34m\u001b[0m\u001b[0;34m\u001b[0m\u001b[0m\n\u001b[1;32m   4142\u001b[0m         \"\"\"\n\u001b[0;32m-> 4143\u001b[0;31m         \u001b[0mvalue\u001b[0m \u001b[0;34m=\u001b[0m \u001b[0mself\u001b[0m\u001b[0;34m.\u001b[0m\u001b[0m_sanitize_column\u001b[0m\u001b[0;34m(\u001b[0m\u001b[0mvalue\u001b[0m\u001b[0;34m)\u001b[0m\u001b[0;34m\u001b[0m\u001b[0;34m\u001b[0m\u001b[0m\n\u001b[0m\u001b[1;32m   4144\u001b[0m \u001b[0;34m\u001b[0m\u001b[0m\n\u001b[1;32m   4145\u001b[0m         if (\n\u001b[1;32m   4146\u001b[0m             \u001b[0mkey\u001b[0m \u001b[0;32min\u001b[0m \u001b[0mself\u001b[0m\u001b[0;34m.\u001b[0m\u001b[0mcolumns\u001b[0m\u001b[0;34m\u001b[0m\u001b[0;34m\u001b[0m\u001b[0m\n",
      "\u001b[0;32m~/anaconda3/envs/base2/lib/python3.11/site-packages/pandas/core/frame.py\u001b[0m in \u001b[0;36m?\u001b[0;34m(self, value)\u001b[0m\n\u001b[1;32m   4863\u001b[0m         \u001b[0;31m# or through loc single_block_path\u001b[0m\u001b[0;34m\u001b[0m\u001b[0;34m\u001b[0m\u001b[0m\n\u001b[1;32m   4864\u001b[0m         \u001b[0;32mif\u001b[0m \u001b[0misinstance\u001b[0m\u001b[0;34m(\u001b[0m\u001b[0mvalue\u001b[0m\u001b[0;34m,\u001b[0m \u001b[0mDataFrame\u001b[0m\u001b[0;34m)\u001b[0m\u001b[0;34m:\u001b[0m\u001b[0;34m\u001b[0m\u001b[0;34m\u001b[0m\u001b[0m\n\u001b[1;32m   4865\u001b[0m             \u001b[0;32mreturn\u001b[0m \u001b[0m_reindex_for_setitem\u001b[0m\u001b[0;34m(\u001b[0m\u001b[0mvalue\u001b[0m\u001b[0;34m,\u001b[0m \u001b[0mself\u001b[0m\u001b[0;34m.\u001b[0m\u001b[0mindex\u001b[0m\u001b[0;34m)\u001b[0m\u001b[0;34m\u001b[0m\u001b[0;34m\u001b[0m\u001b[0m\n\u001b[1;32m   4866\u001b[0m         \u001b[0;32melif\u001b[0m \u001b[0mis_dict_like\u001b[0m\u001b[0;34m(\u001b[0m\u001b[0mvalue\u001b[0m\u001b[0;34m)\u001b[0m\u001b[0;34m:\u001b[0m\u001b[0;34m\u001b[0m\u001b[0;34m\u001b[0m\u001b[0m\n\u001b[0;32m-> 4867\u001b[0;31m             \u001b[0;32mreturn\u001b[0m \u001b[0m_reindex_for_setitem\u001b[0m\u001b[0;34m(\u001b[0m\u001b[0mSeries\u001b[0m\u001b[0;34m(\u001b[0m\u001b[0mvalue\u001b[0m\u001b[0;34m)\u001b[0m\u001b[0;34m,\u001b[0m \u001b[0mself\u001b[0m\u001b[0;34m.\u001b[0m\u001b[0mindex\u001b[0m\u001b[0;34m)\u001b[0m\u001b[0;34m\u001b[0m\u001b[0;34m\u001b[0m\u001b[0m\n\u001b[0m\u001b[1;32m   4868\u001b[0m \u001b[0;34m\u001b[0m\u001b[0m\n\u001b[1;32m   4869\u001b[0m         \u001b[0;32mif\u001b[0m \u001b[0mis_list_like\u001b[0m\u001b[0;34m(\u001b[0m\u001b[0mvalue\u001b[0m\u001b[0;34m)\u001b[0m\u001b[0;34m:\u001b[0m\u001b[0;34m\u001b[0m\u001b[0;34m\u001b[0m\u001b[0m\n\u001b[1;32m   4870\u001b[0m             \u001b[0mcom\u001b[0m\u001b[0;34m.\u001b[0m\u001b[0mrequire_length_match\u001b[0m\u001b[0;34m(\u001b[0m\u001b[0mvalue\u001b[0m\u001b[0;34m,\u001b[0m \u001b[0mself\u001b[0m\u001b[0;34m.\u001b[0m\u001b[0mindex\u001b[0m\u001b[0;34m)\u001b[0m\u001b[0;34m\u001b[0m\u001b[0;34m\u001b[0m\u001b[0m\n",
      "\u001b[0;32m~/anaconda3/envs/base2/lib/python3.11/site-packages/pandas/core/frame.py\u001b[0m in \u001b[0;36m?\u001b[0;34m(value, index)\u001b[0m\n\u001b[1;32m  11613\u001b[0m         \u001b[0;32mif\u001b[0m \u001b[0;32mnot\u001b[0m \u001b[0mvalue\u001b[0m\u001b[0;34m.\u001b[0m\u001b[0mindex\u001b[0m\u001b[0;34m.\u001b[0m\u001b[0mis_unique\u001b[0m\u001b[0;34m:\u001b[0m\u001b[0;34m\u001b[0m\u001b[0;34m\u001b[0m\u001b[0m\n\u001b[1;32m  11614\u001b[0m             \u001b[0;31m# duplicate axis\u001b[0m\u001b[0;34m\u001b[0m\u001b[0;34m\u001b[0m\u001b[0m\n\u001b[1;32m  11615\u001b[0m             \u001b[0;32mraise\u001b[0m \u001b[0merr\u001b[0m\u001b[0;34m\u001b[0m\u001b[0;34m\u001b[0m\u001b[0m\n\u001b[1;32m  11616\u001b[0m \u001b[0;34m\u001b[0m\u001b[0m\n\u001b[0;32m> 11617\u001b[0;31m         raise TypeError(\n\u001b[0m\u001b[1;32m  11618\u001b[0m             \u001b[0;34m\"incompatible index of inserted column with frame index\"\u001b[0m\u001b[0;34m\u001b[0m\u001b[0;34m\u001b[0m\u001b[0m\n\u001b[1;32m  11619\u001b[0m         ) from err\n\u001b[1;32m  11620\u001b[0m     \u001b[0;32mreturn\u001b[0m \u001b[0mreindexed_value\u001b[0m\u001b[0;34m\u001b[0m\u001b[0;34m\u001b[0m\u001b[0m\n",
      "\u001b[0;31mTypeError\u001b[0m: incompatible index of inserted column with frame index"
     ]
    }
   ],
   "source": [
    "## Cuando codprov y coddpto tienen mas de un IN1, elegir el que mas radios tiene en la interseccion.\n",
    "\n",
    "prov_dpto_nuniques = result.groupby(['codprov', 'coddepto', 'IN1']).nunique().reset_index()\n",
    "prov_dpto_nuniques['pct'] = prov_dpto_nuniques.groupby(['codprov', 'coddepto'])['COD_2010'].apply(lambda x: x/x.sum()).round(2)\n",
    "prov_dpto_nuniques['test'] = abs(prov_dpto_nuniques['pct'] - .5)\n",
    "\n",
    "# test.sort_values('test').head(20).sort_values('IN1')"
   ]
  },
  {
   "cell_type": "code",
   "execution_count": null,
   "metadata": {},
   "outputs": [
    {
     "ename": "",
     "evalue": "",
     "output_type": "error",
     "traceback": [
      "\u001b[1;31mThe kernel failed to start due to the missing module 'prompt_toolkit.formatted_text'. Consider installing this module.\n",
      "\u001b[1;31mClick <a href='https://aka.ms/kernelFailuresMissingModule'>here</a> for more info."
     ]
    }
   ],
   "source": [
    "## Lezama y Chascomus\n",
    "prov_dpto_nuniques.loc[prov_dpto_nuniques.IN1 == '06217']"
   ]
  },
  {
   "cell_type": "code",
   "execution_count": null,
   "metadata": {
    "scrolled": false
   },
   "outputs": [
    {
     "ename": "",
     "evalue": "",
     "output_type": "error",
     "traceback": [
      "\u001b[1;31mThe kernel failed to start due to the missing module 'prompt_toolkit.formatted_text'. Consider installing this module.\n",
      "\u001b[1;31mClick <a href='https://aka.ms/kernelFailuresMissingModule'>here</a> for more info."
     ]
    }
   ],
   "source": [
    "## Tierra del Fuego\n",
    "prov_dpto_nuniques.loc[prov_dpto_nuniques.IN1.str[:2] == '94']"
   ]
  },
  {
   "cell_type": "code",
   "execution_count": null,
   "metadata": {},
   "outputs": [
    {
     "ename": "",
     "evalue": "",
     "output_type": "error",
     "traceback": [
      "\u001b[1;31mThe kernel failed to start due to the missing module 'prompt_toolkit.formatted_text'. Consider installing this module.\n",
      "\u001b[1;31mClick <a href='https://aka.ms/kernelFailuresMissingModule'>here</a> for more info."
     ]
    }
   ],
   "source": [
    "prov_dpto_IN1 = prov_dpto_nuniques.groupby(['codprov', 'coddepto']).apply(lambda x: x.nlargest(1, 'COD_2010')).reset_index(drop = True)\n",
    "\n",
    "prov_dpto_IN1[['codprov', 'coddepto', 'IN1']].to_csv('./info/secciones_departamentos-TTGL.csv', index = False)"
   ]
  },
  {
   "cell_type": "code",
   "execution_count": null,
   "metadata": {},
   "outputs": [
    {
     "ename": "",
     "evalue": "",
     "output_type": "error",
     "traceback": [
      "\u001b[1;31mThe kernel failed to start due to the missing module 'prompt_toolkit.formatted_text'. Consider installing this module.\n",
      "\u001b[1;31mClick <a href='https://aka.ms/kernelFailuresMissingModule'>here</a> for more info."
     ]
    }
   ],
   "source": [
    "prov_dpto_IN1[['codprov', 'coddepto', 'IN1']].head()"
   ]
  },
  {
   "cell_type": "markdown",
   "metadata": {},
   "source": [
    "## Unir secciones a departamentos IGN"
   ]
  },
  {
   "cell_type": "code",
   "execution_count": null,
   "metadata": {},
   "outputs": [
    {
     "ename": "",
     "evalue": "",
     "output_type": "error",
     "traceback": [
      "\u001b[1;31mThe kernel failed to start due to the missing module 'prompt_toolkit.formatted_text'. Consider installing this module.\n",
      "\u001b[1;31mClick <a href='https://aka.ms/kernelFailuresMissingModule'>here</a> for more info."
     ]
    }
   ],
   "source": [
    "import geopandas as gpd\n",
    "\n",
    "# Unir secciones a departamentos IGN\n",
    "radios_diss_IN1 = radios.copy()\n",
    "radios_diss_IN1['geometry'] = radios_diss_IN1.buffer(0.001)\n",
    "radios_diss_IN1 = radios_diss_IN1.dissolve('IN1').reset_index()[['IN1', 'geometry']]\n",
    "\n",
    "# Si bien en teoria este dissolve nos daria los departmantos, el archivo de radios IGN tiene varios faltantes y errores.\n",
    "# Por eso es mejor hacer spatial join de los radios disueltos, con la fuente de DPTOS."
   ]
  },
  {
   "cell_type": "markdown",
   "metadata": {},
   "source": [
    "### Radios de IGN en DPTOS y PROVS de IGN"
   ]
  },
  {
   "cell_type": "code",
   "execution_count": null,
   "metadata": {},
   "outputs": [
    {
     "ename": "",
     "evalue": "",
     "output_type": "error",
     "traceback": [
      "\u001b[1;31mThe kernel failed to start due to the missing module 'prompt_toolkit.formatted_text'. Consider installing this module.\n",
      "\u001b[1;31mClick <a href='https://aka.ms/kernelFailuresMissingModule'>here</a> for more info."
     ]
    }
   ],
   "source": [
    "## Si este paso falla, se pueden bajar manualmente los archivos y abrirlos localmente.\n",
    "\n",
    "try: \n",
    "    dptos_url = u'https://dnsg.ign.gob.ar/apps/api/v1/capas-sig/Geodesia+y+demarcación/Límites/departamento/json'\n",
    "    dptos_IGN = gpd.read_file(dptos_url)\n",
    "\n",
    "    # Agregar código y nombres de provincia\n",
    "    provs_url = 'https://dnsg.ign.gob.ar/apps/api/v1/capas-sig/Geodesia+y+demarcación/Límites/provincia/json'\n",
    "    provs_IGN = gpd.read_file(provs_url)\n",
    "\n",
    "except:\n",
    "    dptos_IGN = gpd.read_file('./datos/departamento.json')\n",
    "    provs_IGN = gpd.read_file('./datos/provincia.json')\n"
   ]
  },
  {
   "cell_type": "code",
   "execution_count": null,
   "metadata": {},
   "outputs": [
    {
     "ename": "",
     "evalue": "",
     "output_type": "error",
     "traceback": [
      "\u001b[1;31mThe kernel failed to start due to the missing module 'prompt_toolkit.formatted_text'. Consider installing this module.\n",
      "\u001b[1;31mClick <a href='https://aka.ms/kernelFailuresMissingModule'>here</a> for more info."
     ]
    }
   ],
   "source": [
    "\n",
    "dptos_IN1_from_radios = radios_diss_IN1\n",
    "\n",
    "overlay = gpd.overlay(dptos_IGN[['nam', 'in1', 'geometry']], dptos_IN1_from_radios, how='intersection')\n",
    "overlay['area'] = overlay.area\n",
    "\n",
    "overlay = overlay.groupby(['nam', 'in1']).apply(lambda x: x.nlargest(1, 'area')).reset_index(drop=True)\n",
    "\n",
    "provnames = provs_IGN.rename(columns={'in1': 'in1prov', 'nam': 'namprov'})[['in1prov', 'namprov']]\n",
    "overlay['in1prov'] = overlay['in1'].str[:2]\n",
    "overlay = overlay.merge(provnames, on='in1prov')\n",
    "\n",
    "overlay.head()"
   ]
  },
  {
   "cell_type": "code",
   "execution_count": null,
   "metadata": {},
   "outputs": [
    {
     "ename": "",
     "evalue": "",
     "output_type": "error",
     "traceback": [
      "\u001b[1;31mThe kernel failed to start due to the missing module 'prompt_toolkit.formatted_text'. Consider installing this module.\n",
      "\u001b[1;31mClick <a href='https://aka.ms/kernelFailuresMissingModule'>here</a> for more info."
     ]
    }
   ],
   "source": [
    "# Lugares con código diferente (in1, de radios IGN, vs. IN1 de departamentos IGN)\n",
    "# Son las comunas de CABA, además de Lezama-Chascomús y Tierra del Fuego\n",
    "overlay.loc[overlay.in1 != overlay.IN1].sort_values('in1')"
   ]
  },
  {
   "cell_type": "markdown",
   "metadata": {},
   "source": [
    "### Guardar los resultados"
   ]
  },
  {
   "cell_type": "code",
   "execution_count": null,
   "metadata": {},
   "outputs": [
    {
     "ename": "",
     "evalue": "",
     "output_type": "error",
     "traceback": [
      "\u001b[1;31mThe kernel failed to start due to the missing module 'prompt_toolkit.formatted_text'. Consider installing this module.\n",
      "\u001b[1;31mClick <a href='https://aka.ms/kernelFailuresMissingModule'>here</a> for more info."
     ]
    }
   ],
   "source": [
    "# Geojson\n",
    "overlay[['in1prov', 'namprov', 'in1', 'nam', 'IN1', 'geometry']].to_file('./mapaelectoral/ref-dptosIGN.geojson', driver='GeoJSON')\n",
    "\n",
    "# CSV\n",
    "overlay[['in1prov', 'namprov', 'in1', 'nam', 'IN1']].to_csv('./info/ref-dptosIGN.csv', index=False)"
   ]
  },
  {
   "cell_type": "code",
   "execution_count": null,
   "metadata": {},
   "outputs": [
    {
     "ename": "",
     "evalue": "",
     "output_type": "error",
     "traceback": [
      "\u001b[1;31mThe kernel failed to start due to the missing module 'prompt_toolkit.formatted_text'. Consider installing this module.\n",
      "\u001b[1;31mClick <a href='https://aka.ms/kernelFailuresMissingModule'>here</a> for more info."
     ]
    }
   ],
   "source": []
  }
 ],
 "metadata": {
  "kernelspec": {
   "display_name": "Python 3",
   "language": "python",
   "name": "python3"
  },
  "language_info": {
   "codemirror_mode": {
    "name": "ipython",
    "version": 3
   },
   "file_extension": ".py",
   "mimetype": "text/x-python",
   "name": "python",
   "nbconvert_exporter": "python",
   "pygments_lexer": "ipython3",
   "version": "3.11.3"
  }
 },
 "nbformat": 4,
 "nbformat_minor": 4
}
