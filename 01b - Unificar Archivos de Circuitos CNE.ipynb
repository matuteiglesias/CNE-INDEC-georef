{
 "cells": [
  {
   "cell_type": "code",
   "execution_count": 5,
   "metadata": {},
   "outputs": [],
   "source": [
    "import pandas as pd\n",
    "import geopandas as gpd\n",
    "\n",
    "import warnings\n",
    "warnings.filterwarnings('ignore')\n",
    "\n",
    "import os"
   ]
  },
  {
   "cell_type": "markdown",
   "metadata": {},
   "source": [
    "## Cargar, corregir y unificar archivos"
   ]
  },
  {
   "cell_type": "code",
   "execution_count": 8,
   "metadata": {},
   "outputs": [
    {
     "name": "stdout",
     "output_type": "stream",
     "text": [
      "fatal: destination path 'circuitos_electorales_AR' already exists and is not an empty directory.\r\n"
     ]
    }
   ],
   "source": [
    "## Usar circuitos electorales de Tartagalensis\n",
    "\n",
    "## Descargar los archivos de circuitos de git.\n",
    "! git clone --no-checkout --filter=tree:0 https://github.com/tartagalensis/circuitos_electorales_AR\n",
    "os.chdir('./circuitos_electorales_AR')\n",
    "! git sparse-checkout set geojson\n",
    "os.chdir('./../')\n"
   ]
  },
  {
   "cell_type": "code",
   "execution_count": 72,
   "metadata": {},
   "outputs": [
    {
     "name": "stdout",
     "output_type": "stream",
     "text": [
      "CABA.geojson\n",
      "CATAMARCA.geojson\n",
      "CHACO.geojson\n",
      "CHUBUT.geojson\n",
      "CORDOBA.geojson\n",
      "CORRIENTES.geojson\n",
      "ENTRERIOS.geojson\n",
      "FORMOSA.geojson\n",
      "JUJUY.geojson\n",
      "LAPAMPA.geojson\n",
      "LA_RIOJA.geojson\n",
      "MENDOZA.geojson\n",
      "MISIONES.geojson\n",
      "NEUQUEN.geojson\n",
      "PBA.geojson\n",
      "RIO_NEGRO.geojson\n",
      "SALTA.geojson\n",
      "SANLUIS.geojson\n",
      "SANTACRUZ.geojson\n",
      "SANTAFE.geojson\n",
      "SANTIAGO_DEL_ESTERO.geojson\n",
      "SAN_JUAN.geojson\n",
      "TIERRA_DEL_FUEGO.geojson\n",
      "TUCUMAN.geojson\n"
     ]
    }
   ],
   "source": [
    "\n",
    "from pathlib import Path\n",
    "\n",
    "# path_circuitos_geo = './mapaelectoral/geojson_CNE/'\n",
    "path_circuitos_geo = './circuitos_electorales_AR/geojson/'\n",
    "p = Path(path_circuitos_geo)\n",
    "\n",
    "result_list = []\n",
    "\n",
    "for file in sorted(p.glob('**/*')):\n",
    "    print(file.name)\n",
    "    gdf = gpd.read_file(path_circuitos_geo + file.name)\n",
    "    \n",
    "    ## Estas dos provincias tendrian algun problemita en el archivo de TTgalensis\n",
    "    if file.name in ['SAN_JUAN.geojson', 'MISIONES.geojson']:\n",
    "        gdf_ = gdf.copy()\n",
    "        gdf_['circuito'] = gdf_['circuito'].astype(str).str.zfill(5)\n",
    "        gdf_['codprov'] = gdf_['distrito'].astype(str).str.zfill(2)\n",
    "        gdf_['coddepto'] = gdf_['indec_d'].astype(str).str.zfill(3)\n",
    "\n",
    "        gdf = gdf_[['circuito', 'codprov', 'coddepto', 'geometry']]\n",
    "        \n",
    "    if file.name == 'CORDOBA.geojson':\n",
    "        gdf['codprov'] = '04'\n",
    "\n",
    "    ## Unify column names\n",
    "    gdf = gdf.rename(columns = {'coddistrito': 'codprov', 'codseccion': 'coddepto'})\n",
    "    \n",
    "#     if gdf.shape != (0, 1): ## Si el archivo esta OK\n",
    "#         print(gdf.provincia.unique()[0])\n",
    "\n",
    "#         ## Correccion de errores\n",
    "#         gdf.loc[gdf.departamen == 'Colon', 'indec_d'] = '008'\n",
    "#         gdf.loc[gdf.departamen == 'Concordia', 'indec_d'] = '015'\n",
    "#         gdf.loc[gdf.departamen == 'Villaguay', 'indec_d'] = '113'\n",
    "#         gdf.loc[gdf.departamen == 'Pehuenches', 'indec_d'] = '091'\n",
    "#         gdf.loc[gdf.departamen == 'Cañuelas', 'indec_d'] = '134'\n",
    "#         gdf.loc[gdf.departamen == 'Esteban Echeverria', 'indec_d'] = '260'\n",
    "#         gdf.loc[gdf.departamen == 'Florencio Varela', 'indec_d'] = '274'\n",
    "#         gdf.loc[gdf.departamen == 'Magdalena', 'indec_d'] = '505'\n",
    "#         gdf.loc[gdf.departamen == 'Morón', 'indec_d'] = '568'\n",
    "#         gdf.loc[gdf.departamen == 'Pilar', 'indec_d'] = '638'\n",
    "#         gdf.loc[gdf.departamen == 'San Vicente', 'indec_d'] = '778'\n",
    "#         gdf.loc[gdf.departamen == '12 de Octubre', 'indec_d'] = '036'\n",
    "#         gdf.loc[(gdf.provincia == 'Chaco')\n",
    "#                     & (gdf.departamen == 'Almirante Brown'), 'indec_d'] = '043'\n",
    "\n",
    "    result_list += [gdf]\n",
    "\n",
    "\n",
    "circuitos_ARG = pd.concat(result_list)\n",
    "\n",
    "circuitos_ARG.to_file('./mapaelectoral/circuitos-CNE-TTGL.geojson', driver='GeoJSON')\n"
   ]
  },
  {
   "cell_type": "code",
   "execution_count": 73,
   "metadata": {},
   "outputs": [
    {
     "data": {
      "text/plain": [
       "circuito    5589\n",
       "codprov     5563\n",
       "coddepto    5563\n",
       "geometry    5559\n",
       "seccion     1066\n",
       "dtype: int64"
      ]
     },
     "execution_count": 73,
     "metadata": {},
     "output_type": "execute_result"
    }
   ],
   "source": [
    "circuitos_ARG.count()"
   ]
  },
  {
   "cell_type": "code",
   "execution_count": 74,
   "metadata": {},
   "outputs": [
    {
     "data": {
      "text/plain": [
       "<AxesSubplot:>"
      ]
     },
     "execution_count": 74,
     "metadata": {},
     "output_type": "execute_result"
    },
    {
     "data": {
      "image/png": "[encoded data removed]",
      "text/plain": [
       "<Figure size 432x288 with 1 Axes>"
      ]
     },
     "metadata": {
      "needs_background": "light"
     },
     "output_type": "display_data"
    }
   ],
   "source": [
    "circuitos_ARG.loc[circuitos_ARG.codprov.isna()].plot()"
   ]
  },
  {
   "cell_type": "code",
   "execution_count": null,
   "metadata": {},
   "outputs": [],
   "source": []
  }
 ],
 "metadata": {
  "kernelspec": {
   "display_name": "Python 3",
   "language": "python",
   "name": "python3"
  },
  "language_info": {
   "codemirror_mode": {
    "name": "ipython",
    "version": 3
   },
   "file_extension": ".py",
   "mimetype": "text/x-python",
   "name": "python",
   "nbconvert_exporter": "python",
   "pygments_lexer": "ipython3",
   "version": "3.8.5"
  }
 },
 "nbformat": 4,
 "nbformat_minor": 4
}
