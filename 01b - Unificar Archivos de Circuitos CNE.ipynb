{
 "cells": [
  {
   "cell_type": "code",
   "execution_count": 5,
   "metadata": {},
   "outputs": [],
   "source": [
    "import pandas as pd\n",
    "import geopandas as gpd\n",
    "\n",
    "import warnings\n",
    "warnings.filterwarnings('ignore')\n",
    "\n",
    "import os"
   ]
  },
  {
   "attachments": {},
   "cell_type": "markdown",
   "metadata": {},
   "source": [
    "## Cargar, corregir y unificar archivos\n",
    "\n",
    "En esta notebook se genera y guarda el archivo `./mapaelectoral/circuitos-CNE-TTGL.geojson`\n"
   ]
  },
  {
   "cell_type": "code",
   "execution_count": null,
   "metadata": {},
   "outputs": [],
   "source": []
  },
  {
   "cell_type": "code",
   "execution_count": 8,
   "metadata": {},
   "outputs": [
    {
     "name": "stdout",
     "output_type": "stream",
     "text": [
      "fatal: destination path 'circuitos_electorales_AR' already exists and is not an empty directory.\r\n"
     ]
    }
   ],
   "source": [
    "## Usar circuitos electorales de Tartagalensis\n",
    "\n",
    "## Descargar los archivos de circuitos de git.\n",
    "! git clone --no-checkout --filter=tree:0 https://github.com/tartagalensis/circuitos_electorales_AR\n",
    "os.chdir('./circuitos_electorales_AR')\n",
    "! git sparse-checkout set geojson\n",
    "os.chdir('./../')\n"
   ]
  },
  {
   "cell_type": "code",
   "execution_count": 72,
   "metadata": {},
   "outputs": [
    {
     "name": "stdout",
     "output_type": "stream",
     "text": [
      "CABA.geojson\n",
      "CATAMARCA.geojson\n",
      "CHACO.geojson\n",
      "CHUBUT.geojson\n",
      "CORDOBA.geojson\n",
      "CORRIENTES.geojson\n",
      "ENTRERIOS.geojson\n",
      "FORMOSA.geojson\n",
      "JUJUY.geojson\n",
      "LAPAMPA.geojson\n",
      "LA_RIOJA.geojson\n",
      "MENDOZA.geojson\n",
      "MISIONES.geojson\n",
      "NEUQUEN.geojson\n",
      "PBA.geojson\n",
      "RIO_NEGRO.geojson\n",
      "SALTA.geojson\n",
      "SANLUIS.geojson\n",
      "SANTACRUZ.geojson\n",
      "SANTAFE.geojson\n",
      "SANTIAGO_DEL_ESTERO.geojson\n",
      "SAN_JUAN.geojson\n",
      "TIERRA_DEL_FUEGO.geojson\n",
      "TUCUMAN.geojson\n"
     ]
    }
   ],
   "source": [
    "\n",
    "from pathlib import Path\n",
    "\n",
    "# path_circuitos_geo = './mapaelectoral/geojson_CNE/'\n",
    "path_circuitos_geo = './circuitos_electorales_AR/geojson/'\n",
    "p = Path(path_circuitos_geo)\n",
    "\n",
    "result_list = []\n",
    "\n",
    "for file in sorted(p.glob('**/*')):\n",
    "    print(file.name)\n",
    "    gdf = gpd.read_file(path_circuitos_geo + file.name)\n",
    "    \n",
    "    ## Estas dos provincias tendrian algun problemita en el archivo de TTgalensis\n",
    "    if file.name in ['SAN_JUAN.geojson', 'MISIONES.geojson']:\n",
    "        gdf_ = gdf.copy()\n",
    "        gdf_['circuito'] = gdf_['circuito'].astype(str).str.zfill(5)\n",
    "        gdf_['codprov'] = gdf_['distrito'].astype(str).str.zfill(2)\n",
    "        gdf_['coddepto'] = gdf_['indec_d'].astype(str).str.zfill(3)\n",
    "\n",
    "        gdf = gdf_[['circuito', 'codprov', 'coddepto', 'geometry']]\n",
    "        \n",
    "    if file.name == 'CORDOBA.geojson':\n",
    "        gdf['codprov'] = '04'\n",
    "\n",
    "    ## Unify column names\n",
    "    gdf = gdf.rename(columns = {'coddistrito': 'codprov', 'codseccion': 'coddepto'})\n",
    "    \n",
    "#     if gdf.shape != (0, 1): ## Si el archivo esta OK\n",
    "#         print(gdf.provincia.unique()[0])\n",
    "\n",
    "#         ## Correccion de errores\n",
    "#         gdf.loc[gdf.departamen == 'Colon', 'indec_d'] = '008'\n",
    "#         gdf.loc[gdf.departamen == 'Concordia', 'indec_d'] = '015'\n",
    "#         gdf.loc[gdf.departamen == 'Villaguay', 'indec_d'] = '113'\n",
    "#         gdf.loc[gdf.departamen == 'Pehuenches', 'indec_d'] = '091'\n",
    "#         gdf.loc[gdf.departamen == 'Cañuelas', 'indec_d'] = '134'\n",
    "#         gdf.loc[gdf.departamen == 'Esteban Echeverria', 'indec_d'] = '260'\n",
    "#         gdf.loc[gdf.departamen == 'Florencio Varela', 'indec_d'] = '274'\n",
    "#         gdf.loc[gdf.departamen == 'Magdalena', 'indec_d'] = '505'\n",
    "#         gdf.loc[gdf.departamen == 'Morón', 'indec_d'] = '568'\n",
    "#         gdf.loc[gdf.departamen == 'Pilar', 'indec_d'] = '638'\n",
    "#         gdf.loc[gdf.departamen == 'San Vicente', 'indec_d'] = '778'\n",
    "#         gdf.loc[gdf.departamen == '12 de Octubre', 'indec_d'] = '036'\n",
    "#         gdf.loc[(gdf.provincia == 'Chaco')\n",
    "#                     & (gdf.departamen == 'Almirante Brown'), 'indec_d'] = '043'\n",
    "\n",
    "    result_list += [gdf]\n",
    "\n",
    "\n",
    "circuitos_ARG = pd.concat(result_list)"
   ]
  },
  {
   "cell_type": "markdown",
   "metadata": {},
   "source": [
    "### Arreglar geometrias con problema"
   ]
  },
  {
   "cell_type": "code",
   "execution_count": null,
   "metadata": {},
   "outputs": [],
   "source": [
    "import warnings\n",
    "warnings.filterwarnings('ignore')\n",
    "\n",
    "from shapely.validation import make_valid\n",
    "\n",
    "def fix_geom(in_feature):\n",
    "\n",
    "    # avoid changing original geodf\n",
    "    in_feature = in_feature.copy(deep=True)    \n",
    "        \n",
    "    # drop any missing geometries\n",
    "    in_feature = in_feature[~(in_feature.is_empty)]\n",
    "    \n",
    "    # Repair broken geometries\n",
    "    for index, row in in_feature.iterrows(): # Looping over all polygons\n",
    "        if row['geometry'].is_valid:\n",
    "            next\n",
    "        else:\n",
    "            fix = make_valid(row['geometry'])\n",
    "\n",
    "            try:\n",
    "                in_feature.loc[[index],'geometry'] =  fix # issue with Poly > Multipolygon\n",
    "            except ValueError:\n",
    "                in_feature.loc[[index],'geometry'] =  in_feature.loc[[index], 'geometry'].buffer(0)\n",
    "    return in_feature\n",
    "\n",
    "circuitos_ARG = fix_geom(circuitos_ARG.dropna(subset = 'geometry'))"
   ]
  },
  {
   "cell_type": "code",
   "execution_count": null,
   "metadata": {},
   "outputs": [],
   "source": [
    "circuitos_ARG.to_file('./mapaelectoral/circuitos-CNE-TTGL.geojson', driver='GeoJSON')\n"
   ]
  },
  {
   "cell_type": "markdown",
   "metadata": {},
   "source": [
    "## Ubicar Circuitos en Dptos y Provs de IGN a traves de Spatial Join"
   ]
  },
  {
   "cell_type": "code",
   "execution_count": 9,
   "metadata": {},
   "outputs": [],
   "source": [
    "## Si este paso falla, se pueden bajar manualmente los archivos y abrirlos localmente.\n",
    "import geopandas as gpd\n",
    "\n",
    "try: \n",
    "    dptos_url = u'https://dnsg.ign.gob.ar/apps/api/v1/capas-sig/Geodesia+y+demarcación/Límites/departamento/json'\n",
    "    dptos_IGN = gpd.read_file(dptos_url)[['gid', 'in1', 'nam', 'geometry']]\n",
    "\n",
    "    # Agregar código y nombres de provincia\n",
    "    provs_url = 'https://dnsg.ign.gob.ar/apps/api/v1/capas-sig/Geodesia+y+demarcación/Límites/provincia/json'\n",
    "    provs_IGN = gpd.read_file(provs_url)[['gid', 'in1', 'nam', 'geometry']]\n",
    "\n",
    "except:\n",
    "    dptos_IGN = gpd.read_file('./datos/departamento.json')[['gid', 'in1', 'nam', 'geometry']]\n",
    "    provs_IGN = gpd.read_file('./datos/provincia.json')[['gid', 'in1', 'nam', 'geometry']]\n",
    "\n",
    "\n",
    "## Renombrar para evitar los nombres de columna repetido entre Provs y Dptos\n",
    "# Create a dictionary of old column names and new column names\n",
    "dpto_colname_mapping = {col: col + '_dpto' for col in [col for col in dptos_IGN.columns if col != 'geometry']}\n",
    "prov_colname_mapping = {col: col + '_prov' for col in [col for col in provs_IGN.columns if col != 'geometry']}\n",
    "\n",
    "# Rename the columns using the dictionary\n",
    "dptos_IGN = dptos_IGN.rename(columns=dpto_colname_mapping)\n",
    "provs_IGN = provs_IGN.rename(columns=prov_colname_mapping)"
   ]
  },
  {
   "cell_type": "code",
   "execution_count": 50,
   "metadata": {},
   "outputs": [],
   "source": [
    "circuitos_ARG['coddepto'] = circuitos_ARG['coddepto'].fillna('000')\n",
    "circuitos_ARG['codprov'] = circuitos_ARG['codprov'].fillna('00')"
   ]
  },
  {
   "cell_type": "code",
   "execution_count": 53,
   "metadata": {},
   "outputs": [],
   "source": [
    "import geopandas as gpd\n",
    "\n",
    "# Perform spatial intersection between circuitos_ARG and provs_IGN\n",
    "intersections = gpd.overlay(circuitos_ARG, dptos_IGN, how='intersection')\n",
    "intersections['area'] = intersections.area # Compute the area of each intersection\n",
    "\n",
    "largest_intersections = intersections.groupby(['codprov', 'coddepto', 'circuito']).apply(lambda x: x.nlargest(1, 'area')).reset_index(drop=True)\n",
    "circuitos_dpto = largest_intersections[['codprov', 'coddepto', 'circuito', 'in1_dpto', 'nam_dpto', 'geometry']]"
   ]
  },
  {
   "cell_type": "code",
   "execution_count": 58,
   "metadata": {},
   "outputs": [],
   "source": [
    "intersections = gpd.overlay(circuitos_dpto, provs_IGN, how='intersection')\n",
    "intersections['area'] = intersections.area # Compute the area of each intersection\n",
    "\n",
    "largest_intersections = intersections.groupby(['codprov', 'coddepto', 'circuito']).apply(lambda x: x.nlargest(1, 'area')).reset_index(drop=True)\n",
    "circuitos_dpto_prov = largest_intersections[['in1_prov', 'nam_prov', 'in1_dpto', 'nam_dpto', 'circuito', 'codprov', 'coddepto', 'geometry']]"
   ]
  },
  {
   "cell_type": "code",
   "execution_count": 83,
   "metadata": {},
   "outputs": [
    {
     "data": {
      "text/plain": [
       "circuito    2047\n",
       "codprov       25\n",
       "coddepto     138\n",
       "seccion        8\n",
       "geometry    5550\n",
       "dtype: int64"
      ]
     },
     "execution_count": 83,
     "metadata": {},
     "output_type": "execute_result"
    }
   ],
   "source": [
    "circuitos_ARG.nunique()"
   ]
  },
  {
   "cell_type": "code",
   "execution_count": 85,
   "metadata": {},
   "outputs": [
    {
     "data": {
      "text/plain": [
       "in1_prov      24\n",
       "nam_prov      24\n",
       "in1_dpto     527\n",
       "nam_dpto     445\n",
       "circuito    2045\n",
       "codprov       25\n",
       "coddepto     138\n",
       "geometry    5526\n",
       "dtype: int64"
      ]
     },
     "execution_count": 85,
     "metadata": {},
     "output_type": "execute_result"
    }
   ],
   "source": [
    "circuitos_dpto_prov.nunique()"
   ]
  },
  {
   "cell_type": "code",
   "execution_count": 86,
   "metadata": {},
   "outputs": [],
   "source": [
    "circuitos_dpto_prov.to_file('./datos/circuitos_dpto_prov.geojson', driver='GeoJSON')"
   ]
  },
  {
   "cell_type": "code",
   "execution_count": null,
   "metadata": {},
   "outputs": [],
   "source": []
  }
 ],
 "metadata": {
  "kernelspec": {
   "display_name": "Python 3",
   "language": "python",
   "name": "python3"
  },
  "language_info": {
   "codemirror_mode": {
    "name": "ipython",
    "version": 3
   },
   "file_extension": ".py",
   "mimetype": "text/x-python",
   "name": "python",
   "nbconvert_exporter": "python",
   "pygments_lexer": "ipython3",
   "version": "3.9.13"
  }
 },
 "nbformat": 4,
 "nbformat_minor": 4
}
