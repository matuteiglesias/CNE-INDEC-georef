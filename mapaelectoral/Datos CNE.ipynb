{
 "cells": [
  {
   "cell_type": "code",
   "execution_count": 1,
   "metadata": {},
   "outputs": [
    {
     "data": {
      "text/html": [
       "<style>.container { width:100% !important; }</style>"
      ],
      "text/plain": [
       "<IPython.core.display.HTML object>"
      ]
     },
     "metadata": {},
     "output_type": "display_data"
    }
   ],
   "source": [
    "from IPython.core.display import display, HTML\n",
    "display(HTML(\"<style>.container { width:100% !important; }</style>\"))"
   ]
  },
  {
   "cell_type": "code",
   "execution_count": 2,
   "metadata": {},
   "outputs": [],
   "source": [
    "# # Check links a geojsons segun CNE\n",
    "# import bs4 as bs\n",
    "# import requests\n",
    "\n",
    "# sauce = requests.get('https://mapa2.electoral.gov.ar/descargas')\n",
    "# soup = bs.BeautifulSoup(sauce.content,'html.parser')\n",
    "\n",
    "# print(soup.find_all('a'))\n",
    "\n",
    "# import re\n",
    "# def not_lacie(href):\n",
    "#     return href and re.compile(\"json\").search(href)\n",
    "\n",
    "# list_ = soup.find_all(href=not_lacie)\n",
    "# list_\n",
    "# # <a href=\"/geoserver/wfs?service=WFS&amp;version=1.0.0&amp;request=GetFeature&amp;authkey=c654261e7c8f24ae8e6b0eb225360cde&amp;typeName=descargas:secciones_electorales&amp;maxFeatures=2000&amp;outputFormat=application%2Fjson\">GeoJSON</a>"
   ]
  },
  {
   "cell_type": "markdown",
   "metadata": {},
   "source": [
    "## Bajar geojson de circuitos para todas las provincias"
   ]
  },
  {
   "cell_type": "code",
   "execution_count": 3,
   "metadata": {},
   "outputs": [],
   "source": [
    "import geopandas as gpd\n",
    "import json\n",
    "from urllib.request import urlopen\n",
    "import requests"
   ]
  },
  {
   "cell_type": "code",
   "execution_count": 6,
   "metadata": {},
   "outputs": [],
   "source": [
    "import os\n",
    "if not os.path.exists('./geojson_CNE'):\n",
    "    os.makedirs('./geojson_CNE')\n",
    "    \n",
    "## Bajar geometrias de secciones (departamentos) de todo el pais.\n",
    "url_i = 'https://mapa2.electoral.gov.ar/geoserver/wfs?service=WFS&version=1.0.0&request=GetFeature&authkey=c654261e7c8f24ae8e6b0eb225360cde&typeName=descargas:secciones_electorales&maxFeatures=2000&outputFormat=application%2Fjson'\n",
    "source = requests.get(url_i).json()\n",
    "with open('./geojson_CNE/secciones.geojson', 'w') as outfile:\n",
    "    json.dump(source, outfile)\n",
    "# gdf = gpd.read_file('./geojson_CNE/secciones.geojson')\n",
    "\n",
    "\n",
    "## Repetir para circuitos de cada provincia.\n",
    "for i in range(23, 25):\n",
    "    str_i = str(i).zfill(2)\n",
    "    url_i = 'https://mapa2.electoral.gov.ar/geoserver/wfs?service=WFS&version=1.0.0&request=GetFeature&authkey=c654261e7c8f24ae8e6b0eb225360cde&typeName=descargas:circuito_'+str_i+'&maxFeatures=2000&outputFormat=application%2Fjson'\n",
    "    \n",
    "    source = requests.get(url_i).json()\n",
    "    with open('./geojson_CNE/circuitos_'+str_i+'.geojson', 'w') as outfile:\n",
    "        json.dump(source, outfile)\n",
    "\n",
    "#     gdf = gpd.read_file('./geojson_CNE/circuitos_'+str_i+'.geojson')"
   ]
  },
  {
   "cell_type": "code",
   "execution_count": 7,
   "metadata": {
    "scrolled": false
   },
   "outputs": [
    {
     "data": {
      "text/html": [
       "<div>\n",
       "<style scoped>\n",
       "    .dataframe tbody tr th:only-of-type {\n",
       "        vertical-align: middle;\n",
       "    }\n",
       "\n",
       "    .dataframe tbody tr th {\n",
       "        vertical-align: top;\n",
       "    }\n",
       "\n",
       "    .dataframe thead th {\n",
       "        text-align: right;\n",
       "    }\n",
       "</style>\n",
       "<table border=\"1\" class=\"dataframe\">\n",
       "  <thead>\n",
       "    <tr style=\"text-align: right;\">\n",
       "      <th></th>\n",
       "      <th>id</th>\n",
       "      <th>gid</th>\n",
       "      <th>provincia</th>\n",
       "      <th>departamen</th>\n",
       "      <th>cabecera</th>\n",
       "      <th>geometry</th>\n",
       "    </tr>\n",
       "  </thead>\n",
       "  <tbody>\n",
       "    <tr>\n",
       "      <th>0</th>\n",
       "      <td>secciones_electorales.fid-421fea78_17c1939e73c...</td>\n",
       "      <td>13237</td>\n",
       "      <td>Buenos Aires</td>\n",
       "      <td>Pergamino</td>\n",
       "      <td>Pergamino</td>\n",
       "      <td>MULTIPOLYGON (((-60.45886 -33.60686, -60.45882...</td>\n",
       "    </tr>\n",
       "    <tr>\n",
       "      <th>1</th>\n",
       "      <td>secciones_electorales.fid-421fea78_17c1939e73c...</td>\n",
       "      <td>13238</td>\n",
       "      <td>Santiago del Estero</td>\n",
       "      <td>Alberdi</td>\n",
       "      <td>Campo Gallo</td>\n",
       "      <td>MULTIPOLYGON (((-61.71146 -26.23468, -61.71136...</td>\n",
       "    </tr>\n",
       "    <tr>\n",
       "      <th>2</th>\n",
       "      <td>secciones_electorales.fid-421fea78_17c1939e73c...</td>\n",
       "      <td>13239</td>\n",
       "      <td>Santiago del Estero</td>\n",
       "      <td>Atamisqui</td>\n",
       "      <td>Villa Atamisqui</td>\n",
       "      <td>MULTIPOLYGON (((-64.18847 -28.79840, -64.18831...</td>\n",
       "    </tr>\n",
       "    <tr>\n",
       "      <th>3</th>\n",
       "      <td>secciones_electorales.fid-421fea78_17c1939e73c...</td>\n",
       "      <td>13240</td>\n",
       "      <td>Santiago del Estero</td>\n",
       "      <td>Avellaneda</td>\n",
       "      <td>Herrera</td>\n",
       "      <td>MULTIPOLYGON (((-63.43805 -28.58972, -63.48303...</td>\n",
       "    </tr>\n",
       "    <tr>\n",
       "      <th>4</th>\n",
       "      <td>secciones_electorales.fid-421fea78_17c1939e73c...</td>\n",
       "      <td>13244</td>\n",
       "      <td>Santiago del Estero</td>\n",
       "      <td>Copo</td>\n",
       "      <td>Monte Quemado</td>\n",
       "      <td>MULTIPOLYGON (((-62.65959 -25.65448, -62.63101...</td>\n",
       "    </tr>\n",
       "  </tbody>\n",
       "</table>\n",
       "</div>"
      ],
      "text/plain": [
       "                                                  id    gid  \\\n",
       "0  secciones_electorales.fid-421fea78_17c1939e73c...  13237   \n",
       "1  secciones_electorales.fid-421fea78_17c1939e73c...  13238   \n",
       "2  secciones_electorales.fid-421fea78_17c1939e73c...  13239   \n",
       "3  secciones_electorales.fid-421fea78_17c1939e73c...  13240   \n",
       "4  secciones_electorales.fid-421fea78_17c1939e73c...  13244   \n",
       "\n",
       "             provincia  departamen         cabecera  \\\n",
       "0         Buenos Aires   Pergamino        Pergamino   \n",
       "1  Santiago del Estero     Alberdi      Campo Gallo   \n",
       "2  Santiago del Estero   Atamisqui  Villa Atamisqui   \n",
       "3  Santiago del Estero  Avellaneda          Herrera   \n",
       "4  Santiago del Estero        Copo    Monte Quemado   \n",
       "\n",
       "                                            geometry  \n",
       "0  MULTIPOLYGON (((-60.45886 -33.60686, -60.45882...  \n",
       "1  MULTIPOLYGON (((-61.71146 -26.23468, -61.71136...  \n",
       "2  MULTIPOLYGON (((-64.18847 -28.79840, -64.18831...  \n",
       "3  MULTIPOLYGON (((-63.43805 -28.58972, -63.48303...  \n",
       "4  MULTIPOLYGON (((-62.65959 -25.65448, -62.63101...  "
      ]
     },
     "execution_count": 7,
     "metadata": {},
     "output_type": "execute_result"
    }
   ],
   "source": [
    "secciones = gpd.read_file('./geojson_CNE/secciones.geojson')\n",
    "# secciones.plot()\n",
    "secciones.head()"
   ]
  },
  {
   "cell_type": "code",
   "execution_count": 12,
   "metadata": {},
   "outputs": [
    {
     "data": {
      "text/html": [
       "<div>\n",
       "<style scoped>\n",
       "    .dataframe tbody tr th:only-of-type {\n",
       "        vertical-align: middle;\n",
       "    }\n",
       "\n",
       "    .dataframe tbody tr th {\n",
       "        vertical-align: top;\n",
       "    }\n",
       "\n",
       "    .dataframe thead th {\n",
       "        text-align: right;\n",
       "    }\n",
       "</style>\n",
       "<table border=\"1\" class=\"dataframe\">\n",
       "  <thead>\n",
       "    <tr style=\"text-align: right;\">\n",
       "      <th></th>\n",
       "      <th>id</th>\n",
       "      <th>gid</th>\n",
       "      <th>distrito</th>\n",
       "      <th>provincia</th>\n",
       "      <th>departamen</th>\n",
       "      <th>cabecera</th>\n",
       "      <th>circuito</th>\n",
       "      <th>indec_p</th>\n",
       "      <th>indec_d</th>\n",
       "      <th>geometry</th>\n",
       "    </tr>\n",
       "  </thead>\n",
       "  <tbody>\n",
       "    <tr>\n",
       "      <th>0</th>\n",
       "      <td>circuito_03.fid-421fea78_17c1939e73c_-44fd</td>\n",
       "      <td>147</td>\n",
       "      <td>03</td>\n",
       "      <td>Catamarca</td>\n",
       "      <td>Valle Viejo</td>\n",
       "      <td>San Isidro</td>\n",
       "      <td>69 a 76</td>\n",
       "      <td>10</td>\n",
       "      <td>112</td>\n",
       "      <td>MULTIPOLYGON (((-65.56515 -28.43357, -65.56576...</td>\n",
       "    </tr>\n",
       "    <tr>\n",
       "      <th>1</th>\n",
       "      <td>circuito_03.fid-421fea78_17c1939e73c_-44fc</td>\n",
       "      <td>148</td>\n",
       "      <td>03</td>\n",
       "      <td>Catamarca</td>\n",
       "      <td>Ancasti</td>\n",
       "      <td>Ancasti</td>\n",
       "      <td>33 al 43</td>\n",
       "      <td>10</td>\n",
       "      <td>014</td>\n",
       "      <td>MULTIPOLYGON (((-65.60732 -28.59673, -65.60686...</td>\n",
       "    </tr>\n",
       "    <tr>\n",
       "      <th>2</th>\n",
       "      <td>circuito_03.fid-421fea78_17c1939e73c_-44fb</td>\n",
       "      <td>149</td>\n",
       "      <td>03</td>\n",
       "      <td>Catamarca</td>\n",
       "      <td>Belen</td>\n",
       "      <td>Belen</td>\n",
       "      <td>120</td>\n",
       "      <td>10</td>\n",
       "      <td>035</td>\n",
       "      <td>MULTIPOLYGON (((-67.03866 -27.67925, -67.04279...</td>\n",
       "    </tr>\n",
       "    <tr>\n",
       "      <th>3</th>\n",
       "      <td>circuito_03.fid-421fea78_17c1939e73c_-44fa</td>\n",
       "      <td>150</td>\n",
       "      <td>03</td>\n",
       "      <td>Catamarca</td>\n",
       "      <td>Belen</td>\n",
       "      <td>Belen</td>\n",
       "      <td>119</td>\n",
       "      <td>10</td>\n",
       "      <td>035</td>\n",
       "      <td>MULTIPOLYGON (((-67.24757 -27.43510, -67.24054...</td>\n",
       "    </tr>\n",
       "    <tr>\n",
       "      <th>4</th>\n",
       "      <td>circuito_03.fid-421fea78_17c1939e73c_-44f9</td>\n",
       "      <td>151</td>\n",
       "      <td>03</td>\n",
       "      <td>Catamarca</td>\n",
       "      <td>Belen</td>\n",
       "      <td>Belen</td>\n",
       "      <td>110 124</td>\n",
       "      <td>10</td>\n",
       "      <td>035</td>\n",
       "      <td>MULTIPOLYGON (((-66.68113 -27.43536, -66.65007...</td>\n",
       "    </tr>\n",
       "  </tbody>\n",
       "</table>\n",
       "</div>"
      ],
      "text/plain": [
       "                                           id  gid distrito  provincia  \\\n",
       "0  circuito_03.fid-421fea78_17c1939e73c_-44fd  147       03  Catamarca   \n",
       "1  circuito_03.fid-421fea78_17c1939e73c_-44fc  148       03  Catamarca   \n",
       "2  circuito_03.fid-421fea78_17c1939e73c_-44fb  149       03  Catamarca   \n",
       "3  circuito_03.fid-421fea78_17c1939e73c_-44fa  150       03  Catamarca   \n",
       "4  circuito_03.fid-421fea78_17c1939e73c_-44f9  151       03  Catamarca   \n",
       "\n",
       "    departamen    cabecera  circuito indec_p indec_d  \\\n",
       "0  Valle Viejo  San Isidro   69 a 76      10     112   \n",
       "1      Ancasti     Ancasti  33 al 43      10     014   \n",
       "2        Belen       Belen       120      10     035   \n",
       "3        Belen       Belen       119      10     035   \n",
       "4        Belen       Belen   110 124      10     035   \n",
       "\n",
       "                                            geometry  \n",
       "0  MULTIPOLYGON (((-65.56515 -28.43357, -65.56576...  \n",
       "1  MULTIPOLYGON (((-65.60732 -28.59673, -65.60686...  \n",
       "2  MULTIPOLYGON (((-67.03866 -27.67925, -67.04279...  \n",
       "3  MULTIPOLYGON (((-67.24757 -27.43510, -67.24054...  \n",
       "4  MULTIPOLYGON (((-66.68113 -27.43536, -66.65007...  "
      ]
     },
     "execution_count": 12,
     "metadata": {},
     "output_type": "execute_result"
    }
   ],
   "source": [
    "gdf = gpd.read_file('./geojson_CNE/circuitos_03.geojson')\n",
    "gdf.head()"
   ]
  },
  {
   "cell_type": "code",
   "execution_count": 13,
   "metadata": {},
   "outputs": [
    {
     "data": {
      "text/plain": [
       "<Geographic 2D CRS: EPSG:4326>\n",
       "Name: WGS 84\n",
       "Axis Info [ellipsoidal]:\n",
       "- Lat[north]: Geodetic latitude (degree)\n",
       "- Lon[east]: Geodetic longitude (degree)\n",
       "Area of Use:\n",
       "- name: World.\n",
       "- bounds: (-180.0, -90.0, 180.0, 90.0)\n",
       "Datum: World Geodetic System 1984\n",
       "- Ellipsoid: WGS 84\n",
       "- Prime Meridian: Greenwich"
      ]
     },
     "execution_count": 13,
     "metadata": {},
     "output_type": "execute_result"
    }
   ],
   "source": [
    "secciones.crs"
   ]
  },
  {
   "cell_type": "code",
   "execution_count": null,
   "metadata": {},
   "outputs": [],
   "source": []
  }
 ],
 "metadata": {
  "kernelspec": {
   "display_name": "Python 3",
   "language": "python",
   "name": "python3"
  },
  "language_info": {
   "codemirror_mode": {
    "name": "ipython",
    "version": 3
   },
   "file_extension": ".py",
   "mimetype": "text/x-python",
   "name": "python",
   "nbconvert_exporter": "python",
   "pygments_lexer": "ipython3",
   "version": "3.8.5"
  }
 },
 "nbformat": 4,
 "nbformat_minor": 4
}
